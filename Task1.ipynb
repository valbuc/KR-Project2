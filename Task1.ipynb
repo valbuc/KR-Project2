{
 "cells": [
  {
   "cell_type": "code",
   "execution_count": 21,
   "metadata": {},
   "outputs": [],
   "source": [
    "from BayesNet import BayesNet\n",
    "from BNReasoner import BNReasoner\n",
    "import copy"
   ]
  },
  {
   "cell_type": "code",
   "execution_count": 4,
   "metadata": {},
   "outputs": [],
   "source": [
    "dogproblem = BayesNet()\n",
    "dogproblem.load_from_bifxml('testing/dog_problem.BIFXML')"
   ]
  },
  {
   "cell_type": "code",
   "execution_count": 16,
   "metadata": {},
   "outputs": [
    {
     "data": {
      "image/png": "[encoded data removed]",
      "text/plain": [
       "<Figure size 432x288 with 1 Axes>"
      ]
     },
     "metadata": {},
     "output_type": "display_data"
    }
   ],
   "source": [
    "dogproblem.draw_structure()"
   ]
  },
  {
   "cell_type": "code",
   "execution_count": 6,
   "metadata": {},
   "outputs": [
    {
     "data": {
      "text/plain": [
       "['light-on', 'bowel-problem', 'dog-out', 'hear-bark', 'family-out']"
      ]
     },
     "execution_count": 6,
     "metadata": {},
     "output_type": "execute_result"
    }
   ],
   "source": [
    "dogproblem.get_all_variables()"
   ]
  },
  {
   "cell_type": "code",
   "execution_count": 7,
   "metadata": {},
   "outputs": [
    {
     "data": {
      "text/plain": [
       "{'light-on':    family-out  light-on     p\n",
       " 0       False     False  0.60\n",
       " 1       False      True  0.40\n",
       " 2        True     False  0.05\n",
       " 3        True      True  0.95, 'bowel-problem':    bowel-problem     p\n",
       " 0          False  0.01\n",
       " 1           True  0.99, 'dog-out':    family-out  bowel-problem  dog-out     p\n",
       " 0       False          False    False  0.99\n",
       " 1       False          False     True  0.01\n",
       " 2       False           True    False  0.97\n",
       " 3       False           True     True  0.03\n",
       " 4        True          False    False  0.90\n",
       " 5        True          False     True  0.10\n",
       " 6        True           True    False  0.30\n",
       " 7        True           True     True  0.70, 'hear-bark':    dog-out  hear-bark     p\n",
       " 0    False      False  0.70\n",
       " 1    False       True  0.30\n",
       " 2     True      False  0.01\n",
       " 3     True       True  0.99, 'family-out':    family-out     p\n",
       " 0       False  0.15\n",
       " 1        True  0.85}"
      ]
     },
     "execution_count": 7,
     "metadata": {},
     "output_type": "execute_result"
    }
   ],
   "source": [
    "dogproblem.get_all_cpts()"
   ]
  },
  {
   "cell_type": "code",
   "execution_count": 9,
   "metadata": {},
   "outputs": [
    {
     "data": {
      "text/plain": [
       "[]"
      ]
     },
     "execution_count": 9,
     "metadata": {},
     "output_type": "execute_result"
    }
   ],
   "source": [
    "dogproblem.get_children('light-on')"
   ]
  },
  {
   "cell_type": "code",
   "execution_count": null,
   "metadata": {},
   "outputs": [],
   "source": [
    "x = ['light-on']\n",
    "y = ['bowel-problem']\n",
    "z = ['hear-bark']\n",
    "xyz = x + y + z\n",
    "print(xyz)\n",
    "bn = copy.deepcopy(dogproblem)\n",
    "for variable in bn.get_all_variables():\n",
    "    children = bn.get_children(variable)\n",
    "    if len(children) == 0:\n",
    "        if variable not in xyz:\n",
    "            bn.del_var(variable)\n",
    "            \n",
    "        "
   ]
  }
 ],
 "metadata": {
  "interpreter": {
   "hash": "d851f5f2e04efbe0e6732074ca7af75de027e80c026fb13f10837196506c7235"
  },
  "kernelspec": {
   "display_name": "Python 3",
   "language": "python",
   "name": "python3"
  },
  "language_info": {
   "codemirror_mode": {
    "name": "ipython",
    "version": 3
   },
   "file_extension": ".py",
   "mimetype": "text/x-python",
   "name": "python",
   "nbconvert_exporter": "python",
   "pygments_lexer": "ipython3",
   "version": "3.7.4"
  }
 },
 "nbformat": 4,
 "nbformat_minor": 2
}
