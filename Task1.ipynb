{
 "cells": [
  {
   "cell_type": "code",
   "execution_count": 15,
   "metadata": {},
   "outputs": [],
   "source": [
    "from BayesNet import BayesNet\n",
    "from BNReasoner import BNReasoner\n",
    "import networkx as nx\n",
    "import copy"
   ]
  },
  {
   "cell_type": "code",
   "execution_count": 2,
   "metadata": {},
   "outputs": [],
   "source": [
    "dogproblem = BayesNet()\n",
    "dogproblem.load_from_bifxml('testing/dog_problem.BIFXML')"
   ]
  },
  {
   "cell_type": "code",
   "execution_count": null,
   "metadata": {},
   "outputs": [],
   "source": [
    "dogproblem.draw_structure()"
   ]
  },
  {
   "cell_type": "code",
   "execution_count": 6,
   "metadata": {},
   "outputs": [
    {
     "data": {
      "text/plain": [
       "['light-on', 'bowel-problem', 'dog-out', 'hear-bark', 'family-out']"
      ]
     },
     "execution_count": 6,
     "metadata": {},
     "output_type": "execute_result"
    }
   ],
   "source": [
    "dogproblem.get_all_variables()"
   ]
  },
  {
   "cell_type": "code",
   "execution_count": 7,
   "metadata": {},
   "outputs": [
    {
     "data": {
      "text/plain": [
       "{'light-on':    family-out  light-on     p\n",
       " 0       False     False  0.60\n",
       " 1       False      True  0.40\n",
       " 2        True     False  0.05\n",
       " 3        True      True  0.95, 'bowel-problem':    bowel-problem     p\n",
       " 0          False  0.01\n",
       " 1           True  0.99, 'dog-out':    family-out  bowel-problem  dog-out     p\n",
       " 0       False          False    False  0.99\n",
       " 1       False          False     True  0.01\n",
       " 2       False           True    False  0.97\n",
       " 3       False           True     True  0.03\n",
       " 4        True          False    False  0.90\n",
       " 5        True          False     True  0.10\n",
       " 6        True           True    False  0.30\n",
       " 7        True           True     True  0.70, 'hear-bark':    dog-out  hear-bark     p\n",
       " 0    False      False  0.70\n",
       " 1    False       True  0.30\n",
       " 2     True      False  0.01\n",
       " 3     True       True  0.99, 'family-out':    family-out     p\n",
       " 0       False  0.15\n",
       " 1        True  0.85}"
      ]
     },
     "execution_count": 7,
     "metadata": {},
     "output_type": "execute_result"
    }
   ],
   "source": [
    "dogproblem.get_all_cpts()"
   ]
  },
  {
   "cell_type": "code",
   "execution_count": 9,
   "metadata": {},
   "outputs": [
    {
     "data": {
      "text/plain": [
       "[]"
      ]
     },
     "execution_count": 9,
     "metadata": {},
     "output_type": "execute_result"
    }
   ],
   "source": [
    "dogproblem.get_children('light-on')"
   ]
  },
  {
   "cell_type": "code",
   "execution_count": 3,
   "metadata": {},
   "outputs": [
    {
     "data": {
      "text/plain": [
       "[('bowel-problem', 'dog-out'),\n",
       " ('dog-out', 'hear-bark'),\n",
       " ('family-out', 'light-on'),\n",
       " ('family-out', 'dog-out')]"
      ]
     },
     "execution_count": 3,
     "metadata": {},
     "output_type": "execute_result"
    }
   ],
   "source": [
    "dogproblem.get_all_edges()"
   ]
  },
  {
   "cell_type": "code",
   "execution_count": 21,
   "metadata": {},
   "outputs": [
    {
     "data": {
      "image/png": "[encoded data removed]",
      "text/plain": [
       "<Figure size 432x288 with 1 Axes>"
      ]
     },
     "metadata": {},
     "output_type": "display_data"
    },
    {
     "name": "stdout",
     "output_type": "stream",
     "text": [
      "light-on\n",
      "[]\n",
      "bowel-problem\n",
      "['dog-out']\n",
      "dog-out\n",
      "['hear-bark']\n",
      "hear-bark\n",
      "[]\n",
      "family-out\n",
      "['light-on', 'dog-out']\n",
      "family-out\n",
      "light-on\n",
      "[]\n",
      "bowel-problem\n",
      "['dog-out']\n",
      "dog-out\n",
      "[]\n",
      "hear-bark\n",
      "[1]\n",
      "family-out\n",
      "[]\n",
      "family-out\n",
      "light-on\n",
      "[]\n",
      "bowel-problem\n",
      "[]\n",
      "dog-out\n",
      "[1]\n",
      "hear-bark\n",
      "[1]\n",
      "family-out\n",
      "[]\n",
      "family-out\n"
     ]
    },
    {
     "data": {
      "image/png": "[encoded data removed]",
      "text/plain": [
       "<Figure size 432x288 with 1 Axes>"
      ]
     },
     "metadata": {},
     "output_type": "display_data"
    },
    {
     "data": {
      "text/plain": [
       "0"
      ]
     },
     "execution_count": 21,
     "metadata": {},
     "output_type": "execute_result"
    }
   ],
   "source": [
    "x = ['light-on']\n",
    "y = ['bowel-problem']\n",
    "z = ['family-out']\n",
    "xyz = x + y + z\n",
    "\n",
    "bn = copy.deepcopy(dogproblem)\n",
    "bn.draw_structure()\n",
    "continueiter = True\n",
    "while continueiter == True:\n",
    "    continueiter = False\n",
    "    for variable in dogproblem.get_all_variables():\n",
    "        print(variable)\n",
    "        children = [1]\n",
    "        try:\n",
    "            children = bn.get_children(variable)\n",
    "        except:\n",
    "            pass\n",
    "        print(children)\n",
    "        if len(children) == 0:\n",
    "            if variable not in xyz:\n",
    "                try:\n",
    "                    bn.del_var(variable)\n",
    "                except:\n",
    "                    pass\n",
    "                for edge in bn.get_all_edges():\n",
    "                    if variable in edge: \n",
    "                        bn.del_edge(edge)\n",
    "                continueiter = True\n",
    "    for variable in z:\n",
    "        print(variable)\n",
    "        for edge in bn.get_all_edges():\n",
    "            if edge[0] == variable: \n",
    "                bn.del_edge(edge)\n",
    "\n",
    "bn.draw_structure()\n",
    "\n",
    "connected = []\n",
    "for X in x:\n",
    "    for Y in y:\n",
    "        connected.append(nx.has_path(bn.get_interaction_graph(),X,Y))\n",
    "        \n",
    "sum(connected)"
   ]
  },
  {
   "cell_type": "code",
   "execution_count": null,
   "metadata": {},
   "outputs": [],
   "source": []
  }
 ],
 "metadata": {
  "interpreter": {
   "hash": "d851f5f2e04efbe0e6732074ca7af75de027e80c026fb13f10837196506c7235"
  },
  "kernelspec": {
   "display_name": "Python 3",
   "language": "python",
   "name": "python3"
  },
  "language_info": {
   "codemirror_mode": {
    "name": "ipython",
    "version": 3
   },
   "file_extension": ".py",
   "mimetype": "text/x-python",
   "name": "python",
   "nbconvert_exporter": "python",
   "pygments_lexer": "ipython3",
   "version": "3.7.4"
  }
 },
 "nbformat": 4,
 "nbformat_minor": 2
}
