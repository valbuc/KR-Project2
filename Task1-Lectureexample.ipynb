{
 "cells": [
  {
   "cell_type": "code",
   "execution_count": 1,
   "metadata": {},
   "outputs": [],
   "source": [
    "from BayesNet import BayesNet\n",
    "from BNReasoner import BNReasoner\n",
    "import networkx as nx\n",
    "import pandas as pd\n",
    "import copy"
   ]
  },
  {
   "cell_type": "code",
   "execution_count": 2,
   "metadata": {},
   "outputs": [],
   "source": [
    "#TD: If at some point you get a \"omp Error #15,\" try running this code. It worked for me, but apparently it is not the best solution as it can cause problems, so use with \"caution\" I suppose \n",
    "\n",
    "# import os \n",
    "# os.environ[\"KMP_DUPLICATE_LIB_OK\"]=\"TRUE\""
   ]
  },
  {
   "cell_type": "code",
   "execution_count": 3,
   "metadata": {},
   "outputs": [],
   "source": [
    "lecture = BayesNet()\n",
    "lecture.load_from_bifxml('testing/lecture_example2.BIFXML')"
   ]
  },
  {
   "cell_type": "code",
   "execution_count": 4,
   "metadata": {},
   "outputs": [
    {
     "data": {
      "image/png": "[encoded data removed]",
      "text/plain": [
       "<Figure size 432x288 with 1 Axes>"
      ]
     },
     "metadata": {},
     "output_type": "display_data"
    }
   ],
   "source": [
    "lecture.draw_structure()"
   ]
  },
  {
   "cell_type": "code",
   "execution_count": 5,
   "metadata": {
    "scrolled": true
   },
   "outputs": [
    {
     "data": {
      "text/plain": [
       "['I', 'J', 'Y', 'X', 'O']"
      ]
     },
     "execution_count": 5,
     "metadata": {},
     "output_type": "execute_result"
    }
   ],
   "source": [
    "lecture.get_all_variables()"
   ]
  },
  {
   "cell_type": "code",
   "execution_count": 6,
   "metadata": {},
   "outputs": [
    {
     "data": {
      "text/plain": [
       "{'I':        I    p\n",
       " 0  False  0.5\n",
       " 1   True  0.5, 'J':        J    p\n",
       " 0  False  0.5\n",
       " 1   True  0.5, 'Y':        J      Y     p\n",
       " 0  False  False  0.01\n",
       " 1  False   True  0.99\n",
       " 2   True  False  0.99\n",
       " 3   True   True  0.01, 'X':        J      I      X     p\n",
       " 0  False  False  False  0.95\n",
       " 1  False  False   True  0.05\n",
       " 2  False   True  False  0.95\n",
       " 3  False   True   True  0.05\n",
       " 4   True  False  False  0.95\n",
       " 5   True  False   True  0.05\n",
       " 6   True   True  False  0.05\n",
       " 7   True   True   True  0.95, 'O':        Y      X      O     p\n",
       " 0  False  False  False  0.98\n",
       " 1  False  False   True  0.02\n",
       " 2  False   True  False  0.02\n",
       " 3  False   True   True  0.98\n",
       " 4   True  False  False  0.02\n",
       " 5   True  False   True  0.98\n",
       " 6   True   True  False  0.02\n",
       " 7   True   True   True  0.98}"
      ]
     },
     "execution_count": 6,
     "metadata": {},
     "output_type": "execute_result"
    }
   ],
   "source": [
    "lecture.get_all_cpts()"
   ]
  },
  {
   "cell_type": "code",
   "execution_count": 7,
   "metadata": {},
   "outputs": [
    {
     "ename": "NetworkXError",
     "evalue": "The node Rain? is not in the digraph.",
     "output_type": "error",
     "traceback": [
      "\u001b[1;31m---------------------------------------------------------------------------\u001b[0m",
      "\u001b[1;31mKeyError\u001b[0m                                  Traceback (most recent call last)",
      "\u001b[1;32m~\\Anaconda3\\lib\\site-packages\\networkx\\classes\\digraph.py\u001b[0m in \u001b[0;36msuccessors\u001b[1;34m(self, n)\u001b[0m\n\u001b[0;32m    806\u001b[0m         \u001b[1;32mtry\u001b[0m\u001b[1;33m:\u001b[0m\u001b[1;33m\u001b[0m\u001b[1;33m\u001b[0m\u001b[0m\n\u001b[1;32m--> 807\u001b[1;33m             \u001b[1;32mreturn\u001b[0m \u001b[0miter\u001b[0m\u001b[1;33m(\u001b[0m\u001b[0mself\u001b[0m\u001b[1;33m.\u001b[0m\u001b[0m_succ\u001b[0m\u001b[1;33m[\u001b[0m\u001b[0mn\u001b[0m\u001b[1;33m]\u001b[0m\u001b[1;33m)\u001b[0m\u001b[1;33m\u001b[0m\u001b[1;33m\u001b[0m\u001b[0m\n\u001b[0m\u001b[0;32m    808\u001b[0m         \u001b[1;32mexcept\u001b[0m \u001b[0mKeyError\u001b[0m \u001b[1;32mas\u001b[0m \u001b[0me\u001b[0m\u001b[1;33m:\u001b[0m\u001b[1;33m\u001b[0m\u001b[1;33m\u001b[0m\u001b[0m\n",
      "\u001b[1;31mKeyError\u001b[0m: 'Rain?'",
      "\nThe above exception was the direct cause of the following exception:\n",
      "\u001b[1;31mNetworkXError\u001b[0m                             Traceback (most recent call last)",
      "\u001b[1;32m<ipython-input-7-e669d6ba7da6>\u001b[0m in \u001b[0;36m<module>\u001b[1;34m\u001b[0m\n\u001b[1;32m----> 1\u001b[1;33m \u001b[0mlecture\u001b[0m\u001b[1;33m.\u001b[0m\u001b[0mget_children\u001b[0m\u001b[1;33m(\u001b[0m\u001b[1;34m'Rain?'\u001b[0m\u001b[1;33m)\u001b[0m\u001b[1;33m\u001b[0m\u001b[1;33m\u001b[0m\u001b[0m\n\u001b[0m",
      "\u001b[1;32m~\\Documents\\Master AI VU\\KR\\KR-Project2\\BayesNet.py\u001b[0m in \u001b[0;36mget_children\u001b[1;34m(self, variable)\u001b[0m\n\u001b[0;32m     91\u001b[0m         \u001b[1;33m:\u001b[0m\u001b[1;32mreturn\u001b[0m\u001b[1;33m:\u001b[0m \u001b[0mList\u001b[0m \u001b[0mof\u001b[0m \u001b[0mchildren\u001b[0m\u001b[1;33m\u001b[0m\u001b[1;33m\u001b[0m\u001b[0m\n\u001b[0;32m     92\u001b[0m         \"\"\"\n\u001b[1;32m---> 93\u001b[1;33m         \u001b[1;32mreturn\u001b[0m \u001b[1;33m[\u001b[0m\u001b[0mc\u001b[0m \u001b[1;32mfor\u001b[0m \u001b[0mc\u001b[0m \u001b[1;32min\u001b[0m \u001b[0mself\u001b[0m\u001b[1;33m.\u001b[0m\u001b[0mstructure\u001b[0m\u001b[1;33m.\u001b[0m\u001b[0msuccessors\u001b[0m\u001b[1;33m(\u001b[0m\u001b[0mvariable\u001b[0m\u001b[1;33m)\u001b[0m\u001b[1;33m]\u001b[0m\u001b[1;33m\u001b[0m\u001b[1;33m\u001b[0m\u001b[0m\n\u001b[0m\u001b[0;32m     94\u001b[0m \u001b[1;33m\u001b[0m\u001b[0m\n\u001b[0;32m     95\u001b[0m     \u001b[1;32mdef\u001b[0m \u001b[0mget_cpt\u001b[0m\u001b[1;33m(\u001b[0m\u001b[0mself\u001b[0m\u001b[1;33m,\u001b[0m \u001b[0mvariable\u001b[0m\u001b[1;33m:\u001b[0m \u001b[0mstr\u001b[0m\u001b[1;33m)\u001b[0m \u001b[1;33m->\u001b[0m \u001b[0mpd\u001b[0m\u001b[1;33m.\u001b[0m\u001b[0mDataFrame\u001b[0m\u001b[1;33m:\u001b[0m\u001b[1;33m\u001b[0m\u001b[1;33m\u001b[0m\u001b[0m\n",
      "\u001b[1;32m~\\Anaconda3\\lib\\site-packages\\networkx\\classes\\digraph.py\u001b[0m in \u001b[0;36msuccessors\u001b[1;34m(self, n)\u001b[0m\n\u001b[0;32m    807\u001b[0m             \u001b[1;32mreturn\u001b[0m \u001b[0miter\u001b[0m\u001b[1;33m(\u001b[0m\u001b[0mself\u001b[0m\u001b[1;33m.\u001b[0m\u001b[0m_succ\u001b[0m\u001b[1;33m[\u001b[0m\u001b[0mn\u001b[0m\u001b[1;33m]\u001b[0m\u001b[1;33m)\u001b[0m\u001b[1;33m\u001b[0m\u001b[1;33m\u001b[0m\u001b[0m\n\u001b[0;32m    808\u001b[0m         \u001b[1;32mexcept\u001b[0m \u001b[0mKeyError\u001b[0m \u001b[1;32mas\u001b[0m \u001b[0me\u001b[0m\u001b[1;33m:\u001b[0m\u001b[1;33m\u001b[0m\u001b[1;33m\u001b[0m\u001b[0m\n\u001b[1;32m--> 809\u001b[1;33m             \u001b[1;32mraise\u001b[0m \u001b[0mNetworkXError\u001b[0m\u001b[1;33m(\u001b[0m\u001b[1;34mf\"The node {n} is not in the digraph.\"\u001b[0m\u001b[1;33m)\u001b[0m \u001b[1;32mfrom\u001b[0m \u001b[0me\u001b[0m\u001b[1;33m\u001b[0m\u001b[1;33m\u001b[0m\u001b[0m\n\u001b[0m\u001b[0;32m    810\u001b[0m \u001b[1;33m\u001b[0m\u001b[0m\n\u001b[0;32m    811\u001b[0m     \u001b[1;31m# digraph definitions\u001b[0m\u001b[1;33m\u001b[0m\u001b[1;33m\u001b[0m\u001b[1;33m\u001b[0m\u001b[0m\n",
      "\u001b[1;31mNetworkXError\u001b[0m: The node Rain? is not in the digraph."
     ]
    }
   ],
   "source": [
    "lecture.get_children('Rain?')"
   ]
  },
  {
   "cell_type": "code",
   "execution_count": null,
   "metadata": {
    "scrolled": true
   },
   "outputs": [],
   "source": [
    "lecture.get_all_edges()"
   ]
  },
  {
   "cell_type": "markdown",
   "metadata": {},
   "source": [
    "## a) d-separation "
   ]
  },
  {
   "cell_type": "code",
   "execution_count": 8,
   "metadata": {},
   "outputs": [],
   "source": [
    "reasoner = BNReasoner(lecture)"
   ]
  },
  {
   "cell_type": "code",
   "execution_count": null,
   "metadata": {},
   "outputs": [],
   "source": [
    "x = ['Rain?']\n",
    "y = ['Sprinkler?']\n",
    "z = ['Winter?', 'Wet Grass?']\n",
    "reasoner.d_separation(x, y, z)"
   ]
  },
  {
   "cell_type": "markdown",
   "metadata": {},
   "source": [
    "## b) Ordering"
   ]
  },
  {
   "cell_type": "code",
   "execution_count": null,
   "metadata": {},
   "outputs": [],
   "source": [
    "print('Mindegree heuristic: ')\n",
    "reasoner.ordering_mindegree()"
   ]
  },
  {
   "cell_type": "code",
   "execution_count": null,
   "metadata": {
    "scrolled": true
   },
   "outputs": [],
   "source": [
    "print('Minfull heuristic: ')\n",
    "\n",
    "reasoner.ordering_minfull()"
   ]
  },
  {
   "cell_type": "markdown",
   "metadata": {},
   "source": [
    "# c) network pruning"
   ]
  },
  {
   "cell_type": "code",
   "execution_count": null,
   "metadata": {},
   "outputs": [],
   "source": [
    "q = ['Wet Grass?']\n",
    "e = pd.Series({'Winter?': True, 'Rain?': False})\n",
    "\n",
    "pruned = reasoner.net_prune(q, e)"
   ]
  },
  {
   "cell_type": "code",
   "execution_count": null,
   "metadata": {},
   "outputs": [],
   "source": [
    "pruned.get_cpt('Wet Grass?')"
   ]
  },
  {
   "cell_type": "markdown",
   "metadata": {},
   "source": [
    "## d) Marginal distributions\n",
    "\n",
    "### summing-out: "
   ]
  },
  {
   "cell_type": "code",
   "execution_count": null,
   "metadata": {
    "scrolled": true
   },
   "outputs": [],
   "source": [
    "factor = lecture.get_cpt('Rain?')\n",
    "factor"
   ]
  },
  {
   "cell_type": "code",
   "execution_count": null,
   "metadata": {
    "scrolled": true
   },
   "outputs": [],
   "source": [
    "reasoner.sum_out(factor, ['Winter?'])"
   ]
  },
  {
   "cell_type": "markdown",
   "metadata": {},
   "source": [
    "### multiplying"
   ]
  },
  {
   "cell_type": "code",
   "execution_count": null,
   "metadata": {},
   "outputs": [],
   "source": [
    "rain = lecture.get_cpt('Rain?')\n",
    "rain"
   ]
  },
  {
   "cell_type": "code",
   "execution_count": null,
   "metadata": {},
   "outputs": [],
   "source": [
    "winter = lecture.get_cpt('Winter?')\n",
    "winter"
   ]
  },
  {
   "cell_type": "code",
   "execution_count": null,
   "metadata": {},
   "outputs": [],
   "source": [
    "rain = lecture.get_cpt('Rain?')\n",
    "winter = lecture.get_cpt('Winter?')\n",
    "\n",
    "reasoner.multiply(rain, winter)"
   ]
  },
  {
   "cell_type": "code",
   "execution_count": null,
   "metadata": {},
   "outputs": [],
   "source": [
    "reasoner.multiply(winter, rain)"
   ]
  },
  {
   "cell_type": "code",
   "execution_count": 9,
   "metadata": {
    "scrolled": false
   },
   "outputs": [
    {
     "name": "stdout",
     "output_type": "stream",
     "text": [
      "['I', 'J', 'Y', 'X', 'O']\n",
      "[       I    p\n",
      "0  False  0.5\n",
      "1   True  0.5,        I      X     p\n",
      "4  False  False  0.95\n",
      "5  False   True  0.05\n",
      "6   True  False  0.05\n",
      "7   True   True  0.95]\n",
      "4\n",
      "       I      X      p\n",
      "0  False  False  0.475\n",
      "1  False   True  0.025\n",
      "2   True  False  0.025\n",
      "3   True   True  0.475\n",
      "       I      X      p\n",
      "0  False  False  0.475\n",
      "1  False   True  0.025\n",
      "2   True  False  0.025\n",
      "3   True   True  0.475\n",
      "          I      p\n",
      "X                 \n",
      "False  True  0.475\n",
      "True   True  0.475\n",
      "       p      X      I\n",
      "0  0.475  False  False\n",
      "1  0.475   True   True\n",
      "       p      X      I\n",
      "0  0.475  False  False\n",
      "1  0.475   True   True\n",
      "[      J    p\n",
      "1  True  0.5]\n",
      "1\n",
      "      J    p\n",
      "1  True  0.5\n",
      "J    True\n",
      "p     0.5\n",
      "dtype: object\n",
      "[       Y     p\n",
      "2  False  0.99\n",
      "3   True  0.01,        Y      X      O     p\n",
      "0  False  False  False  0.98\n",
      "2  False   True  False  0.02\n",
      "4   True  False  False  0.02\n",
      "6   True   True  False  0.02]\n",
      "4\n",
      "       Y      X      O       p\n",
      "0  False  False  False  0.9702\n",
      "1  False   True  False  0.0198\n",
      "2   True  False  False  0.0002\n",
      "3   True   True  False  0.0002\n",
      "       Y      X      O       p\n",
      "0  False  False  False  0.9702\n",
      "1  False   True  False  0.0198\n",
      "2   True  False  False  0.0002\n",
      "3   True   True  False  0.0002\n",
      "                Y       p\n",
      "X     O                  \n",
      "False False  True  0.9702\n",
      "True  False  True  0.0198\n",
      "        p      X      O      Y\n",
      "0  0.9702  False  False  False\n",
      "1  0.0198   True  False  False\n",
      "        p      X      O      Y\n",
      "0  0.9702  False  False  False\n",
      "1  0.0198   True  False  False\n",
      "[       p      X      I\n",
      "0  0.475  False  False\n",
      "1  0.475   True   True,         p      X      O      Y\n",
      "0  0.9702  False  False  False\n",
      "1  0.0198   True  False  False]\n",
      "2\n",
      "       X      I      O      Y         p\n",
      "0  False  False  False  False  0.460845\n",
      "1   True   True  False  False  0.009405\n",
      "       X      I      O      Y         p\n",
      "0  False  False  False  False  0.460845\n",
      "1   True   True  False  False  0.009405\n",
      "                       X         p\n",
      "I     O     Y                     \n",
      "False False False  False  0.460845\n",
      "True  False False   True  0.009405\n",
      "          p      I      O      Y      X\n",
      "0  0.460845  False  False  False  False\n",
      "1  0.009405   True  False  False   True\n",
      "          p      I      O      Y      X\n",
      "0  0.460845  False  False  False  False\n",
      "1  0.009405   True  False  False   True\n",
      "[          p      I      O      Y      X\n",
      "0  0.460845  False  False  False  False\n",
      "1  0.009405   True  False  False   True]\n",
      "2\n",
      "          p      I      O      Y      X\n",
      "0  0.460845  False  False  False  False\n",
      "1  0.009405   True  False  False   True\n",
      "          p      I      O      Y      X\n",
      "0  0.460845  False  False  False  False\n",
      "1  0.009405   True  False  False   True\n",
      "                          p      O\n",
      "I     Y     X                     \n",
      "False False False  0.460845  False\n",
      "True  False True   0.009405  False\n",
      "          p      I      Y      X      O\n",
      "0  0.460845  False  False  False  False\n",
      "1  0.009405   True  False   True  False\n",
      "          p      I      Y      X      O\n",
      "0  0.460845  False  False  False  False\n",
      "1  0.009405   True  False   True  False\n",
      "      J    p\n",
      "0  True  0.5\n",
      "<class 'pandas.core.frame.DataFrame'>\n",
      "          p      I      Y      X      O\n",
      "0  0.460845  False  False  False  False\n",
      "1  0.009405   True  False   True  False\n",
      "<class 'pandas.core.frame.DataFrame'>\n",
      "(0, J    True\n",
      "p     0.5\n",
      "Name: 0, dtype: object)\n",
      "(0, p    0.460845\n",
      "I       False\n",
      "Y       False\n",
      "X       False\n",
      "O       False\n",
      "Name: 0, dtype: object)\n",
      "J     True\n",
      "p1     0.5\n",
      "Name: 0, dtype: object\n",
      "p2    0.460845\n",
      "I        False\n",
      "Y        False\n",
      "X        False\n",
      "O        False\n",
      "Name: 0, dtype: object\n",
      "J         True\n",
      "p1         0.5\n",
      "p2    0.460845\n",
      "I        False\n",
      "Y        False\n",
      "X        False\n",
      "O        False\n",
      "Name: 0, dtype: object\n",
      "      J   p1        p2      I      Y      X      O\n",
      "0  True  0.5  0.460845  False  False  False  False\n",
      "      J   p1        p2      I      Y      X      O\n",
      "0  True  0.5  0.460845  False  False  False  False\n",
      "(0, J    True\n",
      "p     0.5\n",
      "Name: 0, dtype: object)\n",
      "(1, p    0.009405\n",
      "I        True\n",
      "Y       False\n",
      "X        True\n",
      "O       False\n",
      "Name: 1, dtype: object)\n",
      "J     True\n",
      "p1     0.5\n",
      "Name: 0, dtype: object\n",
      "p2    0.009405\n",
      "I         True\n",
      "Y        False\n",
      "X         True\n",
      "O        False\n",
      "Name: 1, dtype: object\n",
      "J         True\n",
      "p1         0.5\n",
      "p2    0.009405\n",
      "I         True\n",
      "Y        False\n",
      "X         True\n",
      "O        False\n",
      "dtype: object\n",
      "      J   p1        p2     I      Y     X      O\n",
      "0  True  0.5  0.009405  True  False  True  False\n",
      "      J   p1        p2      I      Y      X      O\n",
      "0  True  0.5  0.460845  False  False  False  False\n",
      "0  True  0.5  0.009405   True  False   True  False\n",
      "0.23042249999999997\n"
     ]
    },
    {
     "data": {
      "text/plain": [
       "(      J      I      Y      X      O         p\n",
       " 0  True  False  False  False  False  0.230422, 13, 0, 13)"
      ]
     },
     "execution_count": 9,
     "metadata": {},
     "output_type": "execute_result"
    }
   ],
   "source": [
    "reasoner.MPE('mindegree', pd.Series({'J': True, 'O': False}))"
   ]
  },
  {
   "cell_type": "code",
   "execution_count": 10,
   "metadata": {},
   "outputs": [
    {
     "name": "stdout",
     "output_type": "stream",
     "text": [
      "['I', 'J', 'Y', 'X', 'O']\n",
      "[       I    p\n",
      "0  False  0.5\n",
      "1   True  0.5,        I      X     p\n",
      "4  False  False  0.95\n",
      "5  False   True  0.05\n",
      "6   True  False  0.05\n",
      "7   True   True  0.95]\n",
      "4\n",
      "       I      X      p\n",
      "0  False  False  0.475\n",
      "1  False   True  0.025\n",
      "2   True  False  0.025\n",
      "3   True   True  0.475\n",
      "       X    p\n",
      "0  False  0.5\n",
      "1   True  0.5\n",
      "[      J    p\n",
      "1  True  0.5]\n",
      "1\n",
      "      J    p\n",
      "1  True  0.5\n"
     ]
    },
    {
     "ename": "ValueError",
     "evalue": "No group keys passed!",
     "output_type": "error",
     "traceback": [
      "\u001b[1;31m---------------------------------------------------------------------------\u001b[0m",
      "\u001b[1;31mValueError\u001b[0m                                Traceback (most recent call last)",
      "\u001b[1;32m<ipython-input-10-119c3011c46b>\u001b[0m in \u001b[0;36m<module>\u001b[1;34m\u001b[0m\n\u001b[1;32m----> 1\u001b[1;33m \u001b[0mreasoner\u001b[0m\u001b[1;33m.\u001b[0m\u001b[0mMAP\u001b[0m\u001b[1;33m(\u001b[0m\u001b[1;34m'mindegree'\u001b[0m\u001b[1;33m,\u001b[0m \u001b[0me_vars\u001b[0m \u001b[1;33m=\u001b[0m \u001b[0mpd\u001b[0m\u001b[1;33m.\u001b[0m\u001b[0mSeries\u001b[0m\u001b[1;33m(\u001b[0m\u001b[1;33m{\u001b[0m\u001b[1;34m'J'\u001b[0m\u001b[1;33m:\u001b[0m \u001b[1;32mTrue\u001b[0m\u001b[1;33m,\u001b[0m \u001b[1;34m'O'\u001b[0m\u001b[1;33m:\u001b[0m \u001b[1;32mFalse\u001b[0m\u001b[1;33m}\u001b[0m\u001b[1;33m)\u001b[0m\u001b[1;33m)\u001b[0m\u001b[1;33m\u001b[0m\u001b[1;33m\u001b[0m\u001b[0m\n\u001b[0m",
      "\u001b[1;32m~\\Documents\\Master AI VU\\KR\\KR-Project2\\BNReasoner.py\u001b[0m in \u001b[0;36mMAP\u001b[1;34m(self, heuristic, map_vars, e_vars)\u001b[0m\n\u001b[0;32m    558\u001b[0m                 \u001b[1;31m# sum out variable\u001b[0m\u001b[1;33m\u001b[0m\u001b[1;33m\u001b[0m\u001b[1;33m\u001b[0m\u001b[0m\n\u001b[0;32m    559\u001b[0m                 \u001b[0mrows_summed\u001b[0m \u001b[1;33m+=\u001b[0m \u001b[0mlen\u001b[0m\u001b[1;33m(\u001b[0m\u001b[0mfactor\u001b[0m\u001b[1;33m)\u001b[0m\u001b[1;33m\u001b[0m\u001b[1;33m\u001b[0m\u001b[0m\n\u001b[1;32m--> 560\u001b[1;33m                 \u001b[0mnewfactor\u001b[0m \u001b[1;33m=\u001b[0m \u001b[0mself\u001b[0m\u001b[1;33m.\u001b[0m\u001b[0msum_out\u001b[0m\u001b[1;33m(\u001b[0m\u001b[0mfactor\u001b[0m\u001b[1;33m,\u001b[0m \u001b[1;33m[\u001b[0m\u001b[0mvariable\u001b[0m\u001b[1;33m]\u001b[0m\u001b[1;33m)\u001b[0m\u001b[1;33m\u001b[0m\u001b[1;33m\u001b[0m\u001b[0m\n\u001b[0m\u001b[0;32m    561\u001b[0m \u001b[1;33m\u001b[0m\u001b[0m\n\u001b[0;32m    562\u001b[0m             \u001b[1;31m# delete factors from cpts\u001b[0m\u001b[1;33m\u001b[0m\u001b[1;33m\u001b[0m\u001b[1;33m\u001b[0m\u001b[0m\n",
      "\u001b[1;32m~\\Documents\\Master AI VU\\KR\\KR-Project2\\BNReasoner.py\u001b[0m in \u001b[0;36msum_out\u001b[1;34m(self, factor, variables)\u001b[0m\n\u001b[0;32m    225\u001b[0m \u001b[1;33m\u001b[0m\u001b[0m\n\u001b[0;32m    226\u001b[0m         \u001b[1;31m# sum out variable\u001b[0m\u001b[1;33m\u001b[0m\u001b[1;33m\u001b[0m\u001b[1;33m\u001b[0m\u001b[0m\n\u001b[1;32m--> 227\u001b[1;33m         \u001b[0msummed_out\u001b[0m \u001b[1;33m=\u001b[0m \u001b[0mfactor\u001b[0m\u001b[1;33m.\u001b[0m\u001b[0mgroupby\u001b[0m\u001b[1;33m(\u001b[0m\u001b[0my\u001b[0m\u001b[1;33m)\u001b[0m\u001b[1;33m.\u001b[0m\u001b[0magg\u001b[0m\u001b[1;33m(\u001b[0m\u001b[1;34m\"sum\"\u001b[0m\u001b[1;33m)\u001b[0m\u001b[1;33m.\u001b[0m\u001b[0mreset_index\u001b[0m\u001b[1;33m(\u001b[0m\u001b[1;33m)\u001b[0m\u001b[1;33m\u001b[0m\u001b[1;33m\u001b[0m\u001b[0m\n\u001b[0m\u001b[0;32m    228\u001b[0m \u001b[1;33m\u001b[0m\u001b[0m\n\u001b[0;32m    229\u001b[0m         \u001b[1;31m# remove variables in z from dataframe\u001b[0m\u001b[1;33m\u001b[0m\u001b[1;33m\u001b[0m\u001b[1;33m\u001b[0m\u001b[0m\n",
      "\u001b[1;32m~\\Anaconda3\\lib\\site-packages\\pandas\\core\\frame.py\u001b[0m in \u001b[0;36mgroupby\u001b[1;34m(self, by, axis, level, as_index, sort, group_keys, squeeze, observed, dropna)\u001b[0m\n\u001b[0;32m   7639\u001b[0m             \u001b[0msqueeze\u001b[0m\u001b[1;33m=\u001b[0m\u001b[0msqueeze\u001b[0m\u001b[1;33m,\u001b[0m  \u001b[1;31m# type: ignore[arg-type]\u001b[0m\u001b[1;33m\u001b[0m\u001b[1;33m\u001b[0m\u001b[0m\n\u001b[0;32m   7640\u001b[0m             \u001b[0mobserved\u001b[0m\u001b[1;33m=\u001b[0m\u001b[0mobserved\u001b[0m\u001b[1;33m,\u001b[0m\u001b[1;33m\u001b[0m\u001b[1;33m\u001b[0m\u001b[0m\n\u001b[1;32m-> 7641\u001b[1;33m             \u001b[0mdropna\u001b[0m\u001b[1;33m=\u001b[0m\u001b[0mdropna\u001b[0m\u001b[1;33m,\u001b[0m\u001b[1;33m\u001b[0m\u001b[1;33m\u001b[0m\u001b[0m\n\u001b[0m\u001b[0;32m   7642\u001b[0m         )\n\u001b[0;32m   7643\u001b[0m \u001b[1;33m\u001b[0m\u001b[0m\n",
      "\u001b[1;32m~\\Anaconda3\\lib\\site-packages\\pandas\\core\\groupby\\groupby.py\u001b[0m in \u001b[0;36m__init__\u001b[1;34m(self, obj, keys, axis, level, grouper, exclusions, selection, as_index, sort, group_keys, squeeze, observed, mutated, dropna)\u001b[0m\n\u001b[0;32m    895\u001b[0m                 \u001b[0mobserved\u001b[0m\u001b[1;33m=\u001b[0m\u001b[0mobserved\u001b[0m\u001b[1;33m,\u001b[0m\u001b[1;33m\u001b[0m\u001b[1;33m\u001b[0m\u001b[0m\n\u001b[0;32m    896\u001b[0m                 \u001b[0mmutated\u001b[0m\u001b[1;33m=\u001b[0m\u001b[0mself\u001b[0m\u001b[1;33m.\u001b[0m\u001b[0mmutated\u001b[0m\u001b[1;33m,\u001b[0m\u001b[1;33m\u001b[0m\u001b[1;33m\u001b[0m\u001b[0m\n\u001b[1;32m--> 897\u001b[1;33m                 \u001b[0mdropna\u001b[0m\u001b[1;33m=\u001b[0m\u001b[0mself\u001b[0m\u001b[1;33m.\u001b[0m\u001b[0mdropna\u001b[0m\u001b[1;33m,\u001b[0m\u001b[1;33m\u001b[0m\u001b[1;33m\u001b[0m\u001b[0m\n\u001b[0m\u001b[0;32m    898\u001b[0m             )\n\u001b[0;32m    899\u001b[0m \u001b[1;33m\u001b[0m\u001b[0m\n",
      "\u001b[1;32m~\\Anaconda3\\lib\\site-packages\\pandas\\core\\groupby\\grouper.py\u001b[0m in \u001b[0;36mget_grouper\u001b[1;34m(obj, key, axis, level, sort, observed, mutated, validate, dropna)\u001b[0m\n\u001b[0;32m    894\u001b[0m \u001b[1;33m\u001b[0m\u001b[0m\n\u001b[0;32m    895\u001b[0m     \u001b[1;32mif\u001b[0m \u001b[0mlen\u001b[0m\u001b[1;33m(\u001b[0m\u001b[0mgroupings\u001b[0m\u001b[1;33m)\u001b[0m \u001b[1;33m==\u001b[0m \u001b[1;36m0\u001b[0m \u001b[1;32mand\u001b[0m \u001b[0mlen\u001b[0m\u001b[1;33m(\u001b[0m\u001b[0mobj\u001b[0m\u001b[1;33m)\u001b[0m\u001b[1;33m:\u001b[0m\u001b[1;33m\u001b[0m\u001b[1;33m\u001b[0m\u001b[0m\n\u001b[1;32m--> 896\u001b[1;33m         \u001b[1;32mraise\u001b[0m \u001b[0mValueError\u001b[0m\u001b[1;33m(\u001b[0m\u001b[1;34m\"No group keys passed!\"\u001b[0m\u001b[1;33m)\u001b[0m\u001b[1;33m\u001b[0m\u001b[1;33m\u001b[0m\u001b[0m\n\u001b[0m\u001b[0;32m    897\u001b[0m     \u001b[1;32melif\u001b[0m \u001b[0mlen\u001b[0m\u001b[1;33m(\u001b[0m\u001b[0mgroupings\u001b[0m\u001b[1;33m)\u001b[0m \u001b[1;33m==\u001b[0m \u001b[1;36m0\u001b[0m\u001b[1;33m:\u001b[0m\u001b[1;33m\u001b[0m\u001b[1;33m\u001b[0m\u001b[0m\n\u001b[0;32m    898\u001b[0m         \u001b[0mgroupings\u001b[0m\u001b[1;33m.\u001b[0m\u001b[0mappend\u001b[0m\u001b[1;33m(\u001b[0m\u001b[0mGrouping\u001b[0m\u001b[1;33m(\u001b[0m\u001b[0mIndex\u001b[0m\u001b[1;33m(\u001b[0m\u001b[1;33m[\u001b[0m\u001b[1;33m]\u001b[0m\u001b[1;33m,\u001b[0m \u001b[0mdtype\u001b[0m\u001b[1;33m=\u001b[0m\u001b[1;34m\"int\"\u001b[0m\u001b[1;33m)\u001b[0m\u001b[1;33m,\u001b[0m \u001b[0mnp\u001b[0m\u001b[1;33m.\u001b[0m\u001b[0marray\u001b[0m\u001b[1;33m(\u001b[0m\u001b[1;33m[\u001b[0m\u001b[1;33m]\u001b[0m\u001b[1;33m,\u001b[0m \u001b[0mdtype\u001b[0m\u001b[1;33m=\u001b[0m\u001b[0mnp\u001b[0m\u001b[1;33m.\u001b[0m\u001b[0mintp\u001b[0m\u001b[1;33m)\u001b[0m\u001b[1;33m)\u001b[0m\u001b[1;33m)\u001b[0m\u001b[1;33m\u001b[0m\u001b[1;33m\u001b[0m\u001b[0m\n",
      "\u001b[1;31mValueError\u001b[0m: No group keys passed!"
     ]
    }
   ],
   "source": [
    "reasoner.MAP('mindegree', e_vars = pd.Series({'J': True, 'O': False}))"
   ]
  },
  {
   "cell_type": "code",
   "execution_count": null,
   "metadata": {},
   "outputs": [],
   "source": [
    "reasoner.MAP('minfill', map_vars = ['I', 'J'])"
   ]
  },
  {
   "cell_type": "code",
   "execution_count": null,
   "metadata": {},
   "outputs": [],
   "source": [
    "reasoner.MAP('random', map_vars = ['I', 'J'])"
   ]
  },
  {
   "cell_type": "code",
   "execution_count": null,
   "metadata": {},
   "outputs": [],
   "source": []
  }
 ],
 "metadata": {
  "interpreter": {
   "hash": "d851f5f2e04efbe0e6732074ca7af75de027e80c026fb13f10837196506c7235"
  },
  "kernelspec": {
   "display_name": "Python 3",
   "language": "python",
   "name": "python3"
  }
 },
 "nbformat": 4,
 "nbformat_minor": 4
}
