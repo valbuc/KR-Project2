{
 "cells": [
  {
   "cell_type": "code",
   "execution_count": 1,
   "metadata": {},
   "outputs": [],
   "source": [
    "from BayesNet import BayesNet\n",
    "from BNReasoner import BNReasoner\n",
    "import networkx as nx\n",
    "import pandas as pd\n",
    "import copy"
   ]
  },
  {
   "cell_type": "code",
   "execution_count": 2,
   "metadata": {},
   "outputs": [],
   "source": [
    "#TD: If at some point you get a \"omp Error #15,\" try running this code. It worked for me, but apparently it is not the best solution as it can cause problems, so use with \"caution\" I suppose \n",
    "\n",
    "# import os \n",
    "# os.environ[\"KMP_DUPLICATE_LIB_OK\"]=\"TRUE\""
   ]
  },
  {
   "cell_type": "code",
   "execution_count": 3,
   "metadata": {},
   "outputs": [],
   "source": [
    "lecture = BayesNet()\n",
    "lecture.load_from_bifxml('testing/lecture_example2.BIFXML')"
   ]
  },
  {
   "cell_type": "code",
   "execution_count": 4,
   "metadata": {},
   "outputs": [
    {
     "data": {
      "image/png": "[encoded data removed]",
      "text/plain": [
       "<Figure size 432x288 with 1 Axes>"
      ]
     },
     "metadata": {},
     "output_type": "display_data"
    }
   ],
   "source": [
    "lecture.draw_structure()"
   ]
  },
  {
   "cell_type": "code",
   "execution_count": 5,
   "metadata": {
    "scrolled": true
   },
   "outputs": [
    {
     "data": {
      "text/plain": [
       "['I', 'J', 'Y', 'X', 'O']"
      ]
     },
     "execution_count": 5,
     "metadata": {},
     "output_type": "execute_result"
    }
   ],
   "source": [
    "lecture.get_all_variables()"
   ]
  },
  {
   "cell_type": "code",
   "execution_count": 6,
   "metadata": {},
   "outputs": [
    {
     "data": {
      "text/plain": [
       "{'I':        I    p\n",
       " 0  False  0.5\n",
       " 1   True  0.5, 'J':        J    p\n",
       " 0  False  0.5\n",
       " 1   True  0.5, 'Y':        J      Y     p\n",
       " 0  False  False  0.01\n",
       " 1  False   True  0.99\n",
       " 2   True  False  0.99\n",
       " 3   True   True  0.01, 'X':        J      I      X     p\n",
       " 0  False  False  False  0.95\n",
       " 1  False  False   True  0.05\n",
       " 2  False   True  False  0.95\n",
       " 3  False   True   True  0.05\n",
       " 4   True  False  False  0.95\n",
       " 5   True  False   True  0.05\n",
       " 6   True   True  False  0.05\n",
       " 7   True   True   True  0.95, 'O':        Y      X      O     p\n",
       " 0  False  False  False  0.98\n",
       " 1  False  False   True  0.02\n",
       " 2  False   True  False  0.02\n",
       " 3  False   True   True  0.98\n",
       " 4   True  False  False  0.02\n",
       " 5   True  False   True  0.98\n",
       " 6   True   True  False  0.02\n",
       " 7   True   True   True  0.98}"
      ]
     },
     "execution_count": 6,
     "metadata": {},
     "output_type": "execute_result"
    }
   ],
   "source": [
    "lecture.get_all_cpts()"
   ]
  },
  {
   "cell_type": "code",
   "execution_count": 7,
   "metadata": {},
   "outputs": [
    {
     "ename": "NetworkXError",
     "evalue": "The node Rain? is not in the digraph.",
     "output_type": "error",
     "traceback": [
      "\u001b[1;31m---------------------------------------------------------------------------\u001b[0m",
      "\u001b[1;31mKeyError\u001b[0m                                  Traceback (most recent call last)",
      "\u001b[1;32m~\\Anaconda3\\lib\\site-packages\\networkx\\classes\\digraph.py\u001b[0m in \u001b[0;36msuccessors\u001b[1;34m(self, n)\u001b[0m\n\u001b[0;32m    806\u001b[0m         \u001b[1;32mtry\u001b[0m\u001b[1;33m:\u001b[0m\u001b[1;33m\u001b[0m\u001b[1;33m\u001b[0m\u001b[0m\n\u001b[1;32m--> 807\u001b[1;33m             \u001b[1;32mreturn\u001b[0m \u001b[0miter\u001b[0m\u001b[1;33m(\u001b[0m\u001b[0mself\u001b[0m\u001b[1;33m.\u001b[0m\u001b[0m_succ\u001b[0m\u001b[1;33m[\u001b[0m\u001b[0mn\u001b[0m\u001b[1;33m]\u001b[0m\u001b[1;33m)\u001b[0m\u001b[1;33m\u001b[0m\u001b[1;33m\u001b[0m\u001b[0m\n\u001b[0m\u001b[0;32m    808\u001b[0m         \u001b[1;32mexcept\u001b[0m \u001b[0mKeyError\u001b[0m \u001b[1;32mas\u001b[0m \u001b[0me\u001b[0m\u001b[1;33m:\u001b[0m\u001b[1;33m\u001b[0m\u001b[1;33m\u001b[0m\u001b[0m\n",
      "\u001b[1;31mKeyError\u001b[0m: 'Rain?'",
      "\nThe above exception was the direct cause of the following exception:\n",
      "\u001b[1;31mNetworkXError\u001b[0m                             Traceback (most recent call last)",
      "\u001b[1;32m<ipython-input-7-e669d6ba7da6>\u001b[0m in \u001b[0;36m<module>\u001b[1;34m\u001b[0m\n\u001b[1;32m----> 1\u001b[1;33m \u001b[0mlecture\u001b[0m\u001b[1;33m.\u001b[0m\u001b[0mget_children\u001b[0m\u001b[1;33m(\u001b[0m\u001b[1;34m'Rain?'\u001b[0m\u001b[1;33m)\u001b[0m\u001b[1;33m\u001b[0m\u001b[1;33m\u001b[0m\u001b[0m\n\u001b[0m",
      "\u001b[1;32m~\\Documents\\Master AI VU\\KR\\KR-Project2\\BayesNet.py\u001b[0m in \u001b[0;36mget_children\u001b[1;34m(self, variable)\u001b[0m\n\u001b[0;32m     91\u001b[0m         \u001b[1;33m:\u001b[0m\u001b[1;32mreturn\u001b[0m\u001b[1;33m:\u001b[0m \u001b[0mList\u001b[0m \u001b[0mof\u001b[0m \u001b[0mchildren\u001b[0m\u001b[1;33m\u001b[0m\u001b[1;33m\u001b[0m\u001b[0m\n\u001b[0;32m     92\u001b[0m         \"\"\"\n\u001b[1;32m---> 93\u001b[1;33m         \u001b[1;32mreturn\u001b[0m \u001b[1;33m[\u001b[0m\u001b[0mc\u001b[0m \u001b[1;32mfor\u001b[0m \u001b[0mc\u001b[0m \u001b[1;32min\u001b[0m \u001b[0mself\u001b[0m\u001b[1;33m.\u001b[0m\u001b[0mstructure\u001b[0m\u001b[1;33m.\u001b[0m\u001b[0msuccessors\u001b[0m\u001b[1;33m(\u001b[0m\u001b[0mvariable\u001b[0m\u001b[1;33m)\u001b[0m\u001b[1;33m]\u001b[0m\u001b[1;33m\u001b[0m\u001b[1;33m\u001b[0m\u001b[0m\n\u001b[0m\u001b[0;32m     94\u001b[0m \u001b[1;33m\u001b[0m\u001b[0m\n\u001b[0;32m     95\u001b[0m     \u001b[1;32mdef\u001b[0m \u001b[0mget_cpt\u001b[0m\u001b[1;33m(\u001b[0m\u001b[0mself\u001b[0m\u001b[1;33m,\u001b[0m \u001b[0mvariable\u001b[0m\u001b[1;33m:\u001b[0m \u001b[0mstr\u001b[0m\u001b[1;33m)\u001b[0m \u001b[1;33m->\u001b[0m \u001b[0mpd\u001b[0m\u001b[1;33m.\u001b[0m\u001b[0mDataFrame\u001b[0m\u001b[1;33m:\u001b[0m\u001b[1;33m\u001b[0m\u001b[1;33m\u001b[0m\u001b[0m\n",
      "\u001b[1;32m~\\Anaconda3\\lib\\site-packages\\networkx\\classes\\digraph.py\u001b[0m in \u001b[0;36msuccessors\u001b[1;34m(self, n)\u001b[0m\n\u001b[0;32m    807\u001b[0m             \u001b[1;32mreturn\u001b[0m \u001b[0miter\u001b[0m\u001b[1;33m(\u001b[0m\u001b[0mself\u001b[0m\u001b[1;33m.\u001b[0m\u001b[0m_succ\u001b[0m\u001b[1;33m[\u001b[0m\u001b[0mn\u001b[0m\u001b[1;33m]\u001b[0m\u001b[1;33m)\u001b[0m\u001b[1;33m\u001b[0m\u001b[1;33m\u001b[0m\u001b[0m\n\u001b[0;32m    808\u001b[0m         \u001b[1;32mexcept\u001b[0m \u001b[0mKeyError\u001b[0m \u001b[1;32mas\u001b[0m \u001b[0me\u001b[0m\u001b[1;33m:\u001b[0m\u001b[1;33m\u001b[0m\u001b[1;33m\u001b[0m\u001b[0m\n\u001b[1;32m--> 809\u001b[1;33m             \u001b[1;32mraise\u001b[0m \u001b[0mNetworkXError\u001b[0m\u001b[1;33m(\u001b[0m\u001b[1;34mf\"The node {n} is not in the digraph.\"\u001b[0m\u001b[1;33m)\u001b[0m \u001b[1;32mfrom\u001b[0m \u001b[0me\u001b[0m\u001b[1;33m\u001b[0m\u001b[1;33m\u001b[0m\u001b[0m\n\u001b[0m\u001b[0;32m    810\u001b[0m \u001b[1;33m\u001b[0m\u001b[0m\n\u001b[0;32m    811\u001b[0m     \u001b[1;31m# digraph definitions\u001b[0m\u001b[1;33m\u001b[0m\u001b[1;33m\u001b[0m\u001b[1;33m\u001b[0m\u001b[0m\n",
      "\u001b[1;31mNetworkXError\u001b[0m: The node Rain? is not in the digraph."
     ]
    }
   ],
   "source": [
    "lecture.get_children('Rain?')"
   ]
  },
  {
   "cell_type": "code",
   "execution_count": null,
   "metadata": {
    "scrolled": true
   },
   "outputs": [],
   "source": [
    "lecture.get_all_edges()"
   ]
  },
  {
   "cell_type": "markdown",
   "metadata": {},
   "source": [
    "## a) d-separation "
   ]
  },
  {
   "cell_type": "code",
   "execution_count": 8,
   "metadata": {},
   "outputs": [],
   "source": [
    "reasoner = BNReasoner(lecture)"
   ]
  },
  {
   "cell_type": "code",
   "execution_count": null,
   "metadata": {},
   "outputs": [],
   "source": [
    "x = ['Rain?']\n",
    "y = ['Sprinkler?']\n",
    "z = ['Winter?', 'Wet Grass?']\n",
    "reasoner.d_separation(x, y, z)"
   ]
  },
  {
   "cell_type": "markdown",
   "metadata": {},
   "source": [
    "## b) Ordering"
   ]
  },
  {
   "cell_type": "code",
   "execution_count": null,
   "metadata": {},
   "outputs": [],
   "source": [
    "print('Mindegree heuristic: ')\n",
    "reasoner.ordering_mindegree()"
   ]
  },
  {
   "cell_type": "code",
   "execution_count": null,
   "metadata": {
    "scrolled": true
   },
   "outputs": [],
   "source": [
    "print('Minfull heuristic: ')\n",
    "\n",
    "reasoner.ordering_minfull()"
   ]
  },
  {
   "cell_type": "markdown",
   "metadata": {},
   "source": [
    "# c) network pruning"
   ]
  },
  {
   "cell_type": "code",
   "execution_count": null,
   "metadata": {},
   "outputs": [],
   "source": [
    "q = ['Wet Grass?']\n",
    "e = pd.Series({'Winter?': True, 'Rain?': False})\n",
    "\n",
    "pruned = reasoner.net_prune(q, e)"
   ]
  },
  {
   "cell_type": "code",
   "execution_count": null,
   "metadata": {},
   "outputs": [],
   "source": [
    "pruned.get_cpt('Wet Grass?')"
   ]
  },
  {
   "cell_type": "markdown",
   "metadata": {},
   "source": [
    "## d) Marginal distributions\n",
    "\n",
    "### summing-out: "
   ]
  },
  {
   "cell_type": "code",
   "execution_count": null,
   "metadata": {
    "scrolled": true
   },
   "outputs": [],
   "source": [
    "factor = lecture.get_cpt('Rain?')\n",
    "factor"
   ]
  },
  {
   "cell_type": "code",
   "execution_count": null,
   "metadata": {
    "scrolled": true
   },
   "outputs": [],
   "source": [
    "reasoner.sum_out(factor, ['Winter?'])"
   ]
  },
  {
   "cell_type": "markdown",
   "metadata": {},
   "source": [
    "### multiplying"
   ]
  },
  {
   "cell_type": "code",
   "execution_count": null,
   "metadata": {},
   "outputs": [],
   "source": [
    "rain = lecture.get_cpt('Rain?')\n",
    "rain"
   ]
  },
  {
   "cell_type": "code",
   "execution_count": null,
   "metadata": {},
   "outputs": [],
   "source": [
    "winter = lecture.get_cpt('Winter?')\n",
    "winter"
   ]
  },
  {
   "cell_type": "code",
   "execution_count": null,
   "metadata": {},
   "outputs": [],
   "source": [
    "rain = lecture.get_cpt('Rain?')\n",
    "winter = lecture.get_cpt('Winter?')\n",
    "\n",
    "reasoner.multiply(rain, winter)"
   ]
  },
  {
   "cell_type": "code",
   "execution_count": null,
   "metadata": {},
   "outputs": [],
   "source": [
    "reasoner.multiply(winter, rain)"
   ]
  },
  {
   "cell_type": "code",
   "execution_count": 9,
   "metadata": {
    "scrolled": false
   },
   "outputs": [
    {
     "name": "stdout",
     "output_type": "stream",
     "text": [
      "['I', 'J', 'Y', 'X', 'O']\n",
      "[       I    p\n",
      "0  False  0.5\n",
      "1   True  0.5,        I      X     p\n",
      "4  False  False  0.95\n",
      "5  False   True  0.05\n",
      "6   True  False  0.05\n",
      "7   True   True  0.95]\n",
      "       I      X      p\n",
      "0  False  False  0.475\n",
      "1  False   True  0.025\n",
      "2   True  False  0.025\n",
      "3   True   True  0.475\n",
      "       I      X      p\n",
      "0  False  False  0.475\n",
      "1  False   True  0.025\n",
      "2   True  False  0.025\n",
      "3   True   True  0.475\n",
      "          I      p\n",
      "X                 \n",
      "False  True  0.475\n",
      "True   True  0.475\n",
      "       p      X      I\n",
      "0  0.475  False  False\n",
      "1  0.475   True   True\n",
      "       p      X      I\n",
      "0  0.475  False  False\n",
      "1  0.475   True   True\n",
      "[      J    p\n",
      "1  True  0.5]\n",
      "      J    p\n",
      "1  True  0.5\n",
      "J    True\n",
      "p     0.5\n",
      "dtype: object\n",
      "[       Y     p\n",
      "2  False  0.99\n",
      "3   True  0.01,        Y      X      O     p\n",
      "0  False  False  False  0.98\n",
      "2  False   True  False  0.02\n",
      "4   True  False  False  0.02\n",
      "6   True   True  False  0.02]\n",
      "       Y      X      O       p\n",
      "0  False  False  False  0.9702\n",
      "1  False   True  False  0.0198\n",
      "2   True  False  False  0.0002\n",
      "3   True   True  False  0.0002\n",
      "       Y      X      O       p\n",
      "0  False  False  False  0.9702\n",
      "1  False   True  False  0.0198\n",
      "2   True  False  False  0.0002\n",
      "3   True   True  False  0.0002\n",
      "                Y       p\n",
      "X     O                  \n",
      "False False  True  0.9702\n",
      "True  False  True  0.0198\n",
      "        p      X      O      Y\n",
      "0  0.9702  False  False  False\n",
      "1  0.0198   True  False  False\n",
      "        p      X      O      Y\n",
      "0  0.9702  False  False  False\n",
      "1  0.0198   True  False  False\n",
      "[       p      X      I\n",
      "0  0.475  False  False\n",
      "1  0.475   True   True,         p      X      O      Y\n",
      "0  0.9702  False  False  False\n",
      "1  0.0198   True  False  False]\n",
      "       X      I      O      Y         p\n",
      "0  False  False  False  False  0.460845\n",
      "1   True   True  False  False  0.009405\n",
      "       X      I      O      Y         p\n",
      "0  False  False  False  False  0.460845\n",
      "1   True   True  False  False  0.009405\n",
      "                       X         p\n",
      "I     O     Y                     \n",
      "False False False  False  0.460845\n",
      "True  False False   True  0.009405\n",
      "          p      I      O      Y      X\n",
      "0  0.460845  False  False  False  False\n",
      "1  0.009405   True  False  False   True\n",
      "          p      I      O      Y      X\n",
      "0  0.460845  False  False  False  False\n",
      "1  0.009405   True  False  False   True\n",
      "[          p      I      O      Y      X\n",
      "0  0.460845  False  False  False  False\n",
      "1  0.009405   True  False  False   True]\n",
      "          p      I      O      Y      X\n",
      "0  0.460845  False  False  False  False\n",
      "1  0.009405   True  False  False   True\n",
      "          p      I      O      Y      X\n",
      "0  0.460845  False  False  False  False\n",
      "1  0.009405   True  False  False   True\n",
      "                          p      O\n",
      "I     Y     X                     \n",
      "False False False  0.460845  False\n",
      "True  False True   0.009405  False\n",
      "          p      I      Y      X      O\n",
      "0  0.460845  False  False  False  False\n",
      "1  0.009405   True  False   True  False\n",
      "          p      I      Y      X      O\n",
      "0  0.460845  False  False  False  False\n",
      "1  0.009405   True  False   True  False\n",
      "      J    p\n",
      "0  True  0.5\n",
      "<class 'pandas.core.frame.DataFrame'>\n",
      "          p      I      Y      X      O\n",
      "0  0.460845  False  False  False  False\n",
      "1  0.009405   True  False   True  False\n",
      "<class 'pandas.core.frame.DataFrame'>\n",
      "(0, J    True\n",
      "p     0.5\n",
      "Name: 0, dtype: object)\n",
      "(0, p    0.460845\n",
      "I       False\n",
      "Y       False\n",
      "X       False\n",
      "O       False\n",
      "Name: 0, dtype: object)\n",
      "J     True\n",
      "p1     0.5\n",
      "Name: 0, dtype: object\n",
      "p2    0.460845\n",
      "I        False\n",
      "Y        False\n",
      "X        False\n",
      "O        False\n",
      "Name: 0, dtype: object\n",
      "J         True\n",
      "p1         0.5\n",
      "p2    0.460845\n",
      "I        False\n",
      "Y        False\n",
      "X        False\n",
      "O        False\n",
      "Name: 0, dtype: object\n",
      "      J   p1        p2      I      Y      X      O\n",
      "0  True  0.5  0.460845  False  False  False  False\n",
      "      J   p1        p2      I      Y      X      O\n",
      "0  True  0.5  0.460845  False  False  False  False\n",
      "(0, J    True\n",
      "p     0.5\n",
      "Name: 0, dtype: object)\n",
      "(1, p    0.009405\n",
      "I        True\n",
      "Y       False\n",
      "X        True\n",
      "O       False\n",
      "Name: 1, dtype: object)\n",
      "J     True\n",
      "p1     0.5\n",
      "Name: 0, dtype: object\n",
      "p2    0.009405\n",
      "I         True\n",
      "Y        False\n",
      "X         True\n",
      "O        False\n",
      "Name: 1, dtype: object\n",
      "J         True\n",
      "p1         0.5\n",
      "p2    0.009405\n",
      "I         True\n",
      "Y        False\n",
      "X         True\n",
      "O        False\n",
      "dtype: object\n",
      "      J   p1        p2     I      Y     X      O\n",
      "0  True  0.5  0.009405  True  False  True  False\n",
      "      J   p1        p2      I      Y      X      O\n",
      "0  True  0.5  0.460845  False  False  False  False\n",
      "0  True  0.5  0.009405   True  False   True  False\n",
      "0.23042249999999997\n"
     ]
    },
    {
     "data": {
      "text/html": [
       "<div>\n",
       "<style scoped>\n",
       "    .dataframe tbody tr th:only-of-type {\n",
       "        vertical-align: middle;\n",
       "    }\n",
       "\n",
       "    .dataframe tbody tr th {\n",
       "        vertical-align: top;\n",
       "    }\n",
       "\n",
       "    .dataframe thead th {\n",
       "        text-align: right;\n",
       "    }\n",
       "</style>\n",
       "<table border=\"1\" class=\"dataframe\">\n",
       "  <thead>\n",
       "    <tr style=\"text-align: right;\">\n",
       "      <th></th>\n",
       "      <th>J</th>\n",
       "      <th>I</th>\n",
       "      <th>Y</th>\n",
       "      <th>X</th>\n",
       "      <th>O</th>\n",
       "      <th>p</th>\n",
       "    </tr>\n",
       "  </thead>\n",
       "  <tbody>\n",
       "    <tr>\n",
       "      <th>0</th>\n",
       "      <td>True</td>\n",
       "      <td>False</td>\n",
       "      <td>False</td>\n",
       "      <td>False</td>\n",
       "      <td>False</td>\n",
       "      <td>0.230422</td>\n",
       "    </tr>\n",
       "  </tbody>\n",
       "</table>\n",
       "</div>"
      ],
      "text/plain": [
       "      J      I      Y      X      O         p\n",
       "0  True  False  False  False  False  0.230422"
      ]
     },
     "execution_count": 9,
     "metadata": {},
     "output_type": "execute_result"
    }
   ],
   "source": [
    "reasoner.MPE('mindegree', pd.Series({'J': True, 'O': False}))"
   ]
  },
  {
   "cell_type": "code",
   "execution_count": null,
   "metadata": {},
   "outputs": [],
   "source": []
  }
 ],
 "metadata": {
  "interpreter": {
   "hash": "d851f5f2e04efbe0e6732074ca7af75de027e80c026fb13f10837196506c7235"
  },
  "kernelspec": {
   "display_name": "Python 3",
   "language": "python",
   "name": "python3"
  }
 },
 "nbformat": 4,
 "nbformat_minor": 4
}
