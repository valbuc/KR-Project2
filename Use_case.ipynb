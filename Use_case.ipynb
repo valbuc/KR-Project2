{
 "cells": [
  {
   "cell_type": "code",
   "execution_count": 1,
   "metadata": {},
   "outputs": [],
   "source": [
    "from BayesNet import BayesNet\n",
    "from BNReasoner import BNReasoner\n",
    "import networkx as nx\n",
    "import pandas as pd\n",
    "import copy"
   ]
  },
  {
   "cell_type": "code",
   "execution_count": 2,
   "metadata": {},
   "outputs": [],
   "source": [
    "# TD: If at some point you get a \"omp Error #15,\" try running this code. It worked for me, but apparently it is not the best solution as it can cause problems, so use with \"caution\" I suppose \n",
    "\n",
    "# import os \n",
    "# os.environ[\"KMP_DUPLICATE_LIB_OK\"]=\"TRUE\""
   ]
  },
  {
   "cell_type": "code",
   "execution_count": 3,
   "metadata": {},
   "outputs": [],
   "source": [
    "covid = BayesNet()\n",
    "covid.load_from_bifxml('testing/Use_Case.BIFXML')"
   ]
  },
  {
   "cell_type": "code",
   "execution_count": 4,
   "metadata": {},
   "outputs": [],
   "source": [
    "covid.draw_structure()"
   ]
  },
  {
   "cell_type": "code",
   "execution_count": null,
   "metadata": {},
   "outputs": [
    {
     "ename": "NameError",
     "evalue": "name 'covid' is not defined",
     "output_type": "error",
     "traceback": [
      "\u001b[1;31m---------------------------------------------------------------------------\u001b[0m",
      "\u001b[1;31mNameError\u001b[0m                                 Traceback (most recent call last)",
      "\u001b[1;32m~\\AppData\\Local\\Temp/ipykernel_15676/992060198.py\u001b[0m in \u001b[0;36m<module>\u001b[1;34m\u001b[0m\n\u001b[1;32m----> 1\u001b[1;33m \u001b[0mcovid\u001b[0m\u001b[1;33m.\u001b[0m\u001b[0mget_all_variables\u001b[0m\u001b[1;33m(\u001b[0m\u001b[1;33m)\u001b[0m\u001b[1;33m\u001b[0m\u001b[1;33m\u001b[0m\u001b[0m\n\u001b[0m",
      "\u001b[1;31mNameError\u001b[0m: name 'covid' is not defined"
     ]
    }
   ],
   "source": [
    "covid.get_all_variables()"
   ]
  },
  {
   "cell_type": "code",
   "execution_count": null,
   "metadata": {},
   "outputs": [
    {
     "data": {
      "text/plain": [
       "{'Cough?':    Cough?     p\n",
       " 0   False  0.95\n",
       " 1    True  0.05, 'Loss of smell?':    Loss of smell?     p\n",
       " 0           False  0.99\n",
       " 1            True  0.01, 'Sore throat?':    Sore throat?     p\n",
       " 0         False  0.98\n",
       " 1          True  0.02, 'Positive PCR test?':     Cough?  Loss of smell?  Sore throat?  Positive antigen test?  \\\n",
       " 0    False           False         False                   False   \n",
       " 1    False           False         False                   False   \n",
       " 2    False           False         False                    True   \n",
       " 3    False           False         False                    True   \n",
       " 4    False           False          True                   False   \n",
       " 5    False           False          True                   False   \n",
       " 6    False           False          True                    True   \n",
       " 7    False           False          True                    True   \n",
       " 8    False            True         False                   False   \n",
       " 9    False            True         False                   False   \n",
       " 10   False            True         False                    True   \n",
       " 11   False            True         False                    True   \n",
       " 12   False            True          True                   False   \n",
       " 13   False            True          True                   False   \n",
       " 14   False            True          True                    True   \n",
       " 15   False            True          True                    True   \n",
       " 16    True           False         False                   False   \n",
       " 17    True           False         False                   False   \n",
       " 18    True           False         False                    True   \n",
       " 19    True           False         False                    True   \n",
       " 20    True           False          True                   False   \n",
       " 21    True           False          True                   False   \n",
       " 22    True           False          True                    True   \n",
       " 23    True           False          True                    True   \n",
       " 24    True            True         False                   False   \n",
       " 25    True            True         False                   False   \n",
       " 26    True            True         False                    True   \n",
       " 27    True            True         False                    True   \n",
       " 28    True            True          True                   False   \n",
       " 29    True            True          True                   False   \n",
       " 30    True            True          True                    True   \n",
       " 31    True            True          True                    True   \n",
       " \n",
       "     Positive PCR test?      p  \n",
       " 0                False  0.989  \n",
       " 1                 True  0.011  \n",
       " 2                False  0.030  \n",
       " 3                 True  0.970  \n",
       " 4                False  0.980  \n",
       " 5                 True  0.020  \n",
       " 6                False  0.030  \n",
       " 7                 True  0.970  \n",
       " 8                False  0.100  \n",
       " 9                 True  0.900  \n",
       " 10               False  0.060  \n",
       " 11                True  0.940  \n",
       " 12               False  0.050  \n",
       " 13                True  0.950  \n",
       " 14               False  0.050  \n",
       " 15                True  0.950  \n",
       " 16               False  0.040  \n",
       " 17                True  0.960  \n",
       " 18               False  0.020  \n",
       " 19                True  0.980  \n",
       " 20               False  0.100  \n",
       " 21                True  0.900  \n",
       " 22               False  0.020  \n",
       " 23                True  0.980  \n",
       " 24               False  0.950  \n",
       " 25                True  0.050  \n",
       " 26               False  0.080  \n",
       " 27                True  0.920  \n",
       " 28               False  0.950  \n",
       " 29                True  0.050  \n",
       " 30               False  0.011  \n",
       " 31                True  0.989  , 'Positive antigen test?':     Cough?  Loss of smell?  Sore throat?  Positive antigen test?      p\n",
       " 0    False           False         False                   False  0.976\n",
       " 1    False           False         False                    True  0.024\n",
       " 2    False           False          True                   False  0.100\n",
       " 3    False           False          True                    True  0.900\n",
       " 4    False            True         False                   False  0.865\n",
       " 5    False            True         False                    True  0.135\n",
       " 6    False            True          True                   False  0.860\n",
       " 7    False            True          True                    True  0.140\n",
       " 8     True           False         False                   False  0.100\n",
       " 9     True           False         False                    True  0.900\n",
       " 10    True           False          True                   False  0.890\n",
       " 11    True           False          True                    True  0.110\n",
       " 12    True            True         False                   False  0.860\n",
       " 13    True            True         False                    True  0.140\n",
       " 14    True            True          True                   False  0.850\n",
       " 15    True            True          True                    True  0.150, 'Covid-19?':    Positive PCR test?  Positive antigen test?  Covid-19?      p\n",
       " 0               False                   False      False  0.985\n",
       " 1               False                   False       True  0.015\n",
       " 2               False                    True      False  0.200\n",
       " 3               False                    True       True  0.800\n",
       " 4                True                   False      False  0.250\n",
       " 5                True                   False       True  0.750\n",
       " 6                True                    True      False  0.100\n",
       " 7                True                    True       True  0.900, 'Cold?':    Positive antigen test?  Positive PCR test?  Cold?      p\n",
       " 0                   False               False  False  0.950\n",
       " 1                   False               False   True  0.050\n",
       " 2                   False                True  False  0.990\n",
       " 3                   False                True   True  0.100\n",
       " 4                    True               False  False  0.985\n",
       " 5                    True               False   True  0.015\n",
       " 6                    True                True  False  0.985\n",
       " 7                    True                True   True  0.015, 'Cannot breathe?':    Covid-19?  Cold?  Cannot breathe?       p\n",
       " 0      False  False            False  1.0000\n",
       " 1      False  False             True  0.0000\n",
       " 2      False   True            False  0.9995\n",
       " 3      False   True             True  0.0005\n",
       " 4       True  False            False  0.8500\n",
       " 5       True  False             True  0.1500\n",
       " 6       True   True            False  0.8000\n",
       " 7       True   True             True  0.2000, 'High fever?':    Covid-19?  Cold?  High fever?      p\n",
       " 0      False  False        False  1.000\n",
       " 1      False  False         True  0.000\n",
       " 2      False   True        False  0.995\n",
       " 3      False   True         True  0.005\n",
       " 4       True  False        False  0.950\n",
       " 5       True  False         True  0.050\n",
       " 6       True   True        False  0.950\n",
       " 7       True   True         True  0.050, 'Take Ivermectin?':    Covid-19?  Cold?  Take Ivermectin?      p\n",
       " 0      False  False             False  1.000\n",
       " 1      False  False              True  0.000\n",
       " 2      False   True             False  0.995\n",
       " 3      False   True              True  0.005\n",
       " 4       True  False             False  0.950\n",
       " 5       True  False              True  0.050\n",
       " 6       True   True             False  0.950\n",
       " 7       True   True              True  0.050, 'ICU?':     Cannot breathe?  High fever?  Take Ivermectin?   ICU?       p\n",
       " 0             False        False             False  False  0.9990\n",
       " 1             False        False             False   True  0.0010\n",
       " 2             False        False              True  False  0.9991\n",
       " 3             False        False              True   True  0.0009\n",
       " 4             False         True             False  False  0.7000\n",
       " 5             False         True             False   True  0.3000\n",
       " 6             False         True              True  False  0.4001\n",
       " 7             False         True              True   True  0.5999\n",
       " 8              True        False             False  False  0.7000\n",
       " 9              True        False             False   True  0.3000\n",
       " 10             True        False              True  False  0.3001\n",
       " 11             True        False              True   True  0.6999\n",
       " 12             True         True             False  False  0.1500\n",
       " 13             True         True             False   True  0.8500\n",
       " 14             True         True              True  False  0.1501\n",
       " 15             True         True              True   True  0.8499, 'Recovery?':     Cannot breathe?  High fever?  Take Ivermectin?   ICU?  Recovery?       p\n",
       " 0             False        False             False  False      False  0.0010\n",
       " 1             False        False             False  False       True  0.9990\n",
       " 2             False        False             False   True      False  0.1500\n",
       " 3             False        False             False   True       True  0.8500\n",
       " 4             False        False              True  False      False  0.0009\n",
       " 5             False        False              True  False       True  0.9991\n",
       " 6             False        False              True   True      False  0.1499\n",
       " 7             False        False              True   True       True  0.8501\n",
       " 8             False         True             False  False      False  0.0500\n",
       " 9             False         True             False  False       True  0.9500\n",
       " 10            False         True             False   True      False  0.3000\n",
       " 11            False         True             False   True       True  0.7000\n",
       " 12            False         True              True  False      False  0.0999\n",
       " 13            False         True              True  False       True  0.9001\n",
       " 14            False         True              True   True      False  0.2999\n",
       " 15            False         True              True   True       True  0.7001\n",
       " 16             True        False             False  False      False  0.1000\n",
       " 17             True        False             False  False       True  0.9000\n",
       " 18             True        False             False   True      False  0.2500\n",
       " 19             True        False             False   True       True  0.7500\n",
       " 20             True        False              True  False      False  0.0999\n",
       " 21             True        False              True  False       True  0.9001\n",
       " 22             True        False              True   True      False  0.2999\n",
       " 23             True        False              True   True       True  0.7001\n",
       " 24             True         True             False  False      False  0.3000\n",
       " 25             True         True             False  False       True  0.7000\n",
       " 26             True         True             False   True      False  0.6000\n",
       " 27             True         True             False   True       True  0.4000\n",
       " 28             True         True              True  False      False  0.2999\n",
       " 29             True         True              True  False       True  0.7001\n",
       " 30             True         True              True   True      False  0.5999\n",
       " 31             True         True              True   True       True  0.4001}"
      ]
     },
     "execution_count": 6,
     "metadata": {},
     "output_type": "execute_result"
    }
   ],
   "source": [
    "covid.get_all_cpts()"
   ]
  },
  {
   "cell_type": "code",
   "execution_count": null,
   "metadata": {},
   "outputs": [
    {
     "data": {
      "text/plain": [
       "['Recovery?']"
      ]
     },
     "execution_count": 7,
     "metadata": {},
     "output_type": "execute_result"
    }
   ],
   "source": [
    "covid.get_children('ICU?')"
   ]
  },
  {
   "cell_type": "code",
   "execution_count": null,
   "metadata": {
    "scrolled": true
   },
   "outputs": [
    {
     "data": {
      "text/plain": [
       "[('Cough?', 'Positive PCR test?'),\n",
       " ('Cough?', 'Positive antigen test?'),\n",
       " ('Loss of smell?', 'Positive PCR test?'),\n",
       " ('Loss of smell?', 'Positive antigen test?'),\n",
       " ('Sore throat?', 'Positive PCR test?'),\n",
       " ('Sore throat?', 'Positive antigen test?'),\n",
       " ('Positive PCR test?', 'Cold?'),\n",
       " ('Positive PCR test?', 'Covid-19?'),\n",
       " ('Positive antigen test?', 'Positive PCR test?'),\n",
       " ('Positive antigen test?', 'Cold?'),\n",
       " ('Positive antigen test?', 'Covid-19?'),\n",
       " ('Covid-19?', 'Take Ivermectin?'),\n",
       " ('Covid-19?', 'High fever?'),\n",
       " ('Covid-19?', 'Cannot breathe?'),\n",
       " ('Cold?', 'Take Ivermectin?'),\n",
       " ('Cold?', 'High fever?'),\n",
       " ('Cold?', 'Cannot breathe?'),\n",
       " ('Cannot breathe?', 'ICU?'),\n",
       " ('Cannot breathe?', 'Recovery?'),\n",
       " ('High fever?', 'ICU?'),\n",
       " ('High fever?', 'Recovery?'),\n",
       " ('Take Ivermectin?', 'ICU?'),\n",
       " ('Take Ivermectin?', 'Recovery?'),\n",
       " ('ICU?', 'Recovery?')]"
      ]
     },
     "execution_count": 8,
     "metadata": {},
     "output_type": "execute_result"
    }
   ],
   "source": [
    "covid.get_all_edges()"
   ]
  },
  {
   "cell_type": "markdown",
   "metadata": {},
   "source": [
    "## a) d-separation "
   ]
  },
  {
   "cell_type": "code",
   "execution_count": null,
   "metadata": {},
   "outputs": [],
   "source": [
    "reasoner = BNReasoner(covid)"
   ]
  },
  {
   "cell_type": "code",
   "execution_count": null,
   "metadata": {},
   "outputs": [
    {
     "data": {
      "text/plain": [
       "False"
      ]
     },
     "execution_count": 10,
     "metadata": {},
     "output_type": "execute_result"
    }
   ],
   "source": [
    "x = ['Sore throat?', 'Cold?']\n",
    "y = ['Cough?', 'ICU?']\n",
    "z = ['Take Ivermectin?']\n",
    "reasoner.d_separation(x, y, z)"
   ]
  },
  {
   "cell_type": "markdown",
   "metadata": {},
   "source": [
    "## b) Ordering"
   ]
  },
  {
   "cell_type": "code",
   "execution_count": null,
   "metadata": {},
   "outputs": [
    {
     "name": "stdout",
     "output_type": "stream",
     "text": [
      "Mindegree heuristic: \n"
     ]
    },
    {
     "data": {
      "text/plain": [
       "['Cough?',\n",
       " 'Loss of smell?',\n",
       " 'Sore throat?',\n",
       " 'Positive PCR test?',\n",
       " 'Positive antigen test?',\n",
       " 'Covid-19?',\n",
       " 'Cold?',\n",
       " 'Cannot breathe?',\n",
       " 'High fever?',\n",
       " 'Take Ivermectin?',\n",
       " 'ICU?',\n",
       " 'Recovery?']"
      ]
     },
     "execution_count": 11,
     "metadata": {},
     "output_type": "execute_result"
    }
   ],
   "source": [
    "print('Mindegree heuristic: ')\n",
    "reasoner.ordering_mindegree(covid)"
   ]
  },
  {
   "cell_type": "code",
   "execution_count": null,
   "metadata": {
    "scrolled": true
   },
   "outputs": [
    {
     "name": "stdout",
     "output_type": "stream",
     "text": [
      "Minfill heuristic: \n"
     ]
    },
    {
     "data": {
      "text/plain": [
       "['Cough?',\n",
       " 'Loss of smell?',\n",
       " 'Sore throat?',\n",
       " 'Positive PCR test?',\n",
       " 'Positive antigen test?',\n",
       " 'Covid-19?',\n",
       " 'Cold?',\n",
       " 'Cannot breathe?',\n",
       " 'High fever?',\n",
       " 'Take Ivermectin?',\n",
       " 'ICU?',\n",
       " 'Recovery?']"
      ]
     },
     "execution_count": 12,
     "metadata": {},
     "output_type": "execute_result"
    }
   ],
   "source": [
    "print('Minfill heuristic: ')\n",
    "\n",
    "reasoner.ordering_minfill(covid)"
   ]
  },
  {
   "cell_type": "markdown",
   "metadata": {},
   "source": [
    "# c) Network Pruning"
   ]
  },
  {
   "cell_type": "code",
   "execution_count": null,
   "metadata": {
    "scrolled": true
   },
   "outputs": [],
   "source": [
    "q = ['ICU?']\n",
    "e = pd.Series({'Covid-19?': True, 'Cold?': False})\n",
    "\n",
    "pruned = reasoner.net_prune(q, e)"
   ]
  },
  {
   "cell_type": "code",
   "execution_count": null,
   "metadata": {},
   "outputs": [
    {
     "data": {
      "text/html": [
       "<div>\n",
       "<style scoped>\n",
       "    .dataframe tbody tr th:only-of-type {\n",
       "        vertical-align: middle;\n",
       "    }\n",
       "\n",
       "    .dataframe tbody tr th {\n",
       "        vertical-align: top;\n",
       "    }\n",
       "\n",
       "    .dataframe thead th {\n",
       "        text-align: right;\n",
       "    }\n",
       "</style>\n",
       "<table border=\"1\" class=\"dataframe\">\n",
       "  <thead>\n",
       "    <tr style=\"text-align: right;\">\n",
       "      <th></th>\n",
       "      <th>Cannot breathe?</th>\n",
       "      <th>High fever?</th>\n",
       "      <th>Take Ivermectin?</th>\n",
       "      <th>ICU?</th>\n",
       "      <th>p</th>\n",
       "    </tr>\n",
       "  </thead>\n",
       "  <tbody>\n",
       "    <tr>\n",
       "      <th>0</th>\n",
       "      <td>False</td>\n",
       "      <td>False</td>\n",
       "      <td>False</td>\n",
       "      <td>False</td>\n",
       "      <td>0.9990</td>\n",
       "    </tr>\n",
       "    <tr>\n",
       "      <th>1</th>\n",
       "      <td>False</td>\n",
       "      <td>False</td>\n",
       "      <td>False</td>\n",
       "      <td>True</td>\n",
       "      <td>0.0010</td>\n",
       "    </tr>\n",
       "    <tr>\n",
       "      <th>2</th>\n",
       "      <td>False</td>\n",
       "      <td>False</td>\n",
       "      <td>True</td>\n",
       "      <td>False</td>\n",
       "      <td>0.9991</td>\n",
       "    </tr>\n",
       "    <tr>\n",
       "      <th>3</th>\n",
       "      <td>False</td>\n",
       "      <td>False</td>\n",
       "      <td>True</td>\n",
       "      <td>True</td>\n",
       "      <td>0.0009</td>\n",
       "    </tr>\n",
       "    <tr>\n",
       "      <th>4</th>\n",
       "      <td>False</td>\n",
       "      <td>True</td>\n",
       "      <td>False</td>\n",
       "      <td>False</td>\n",
       "      <td>0.7000</td>\n",
       "    </tr>\n",
       "    <tr>\n",
       "      <th>5</th>\n",
       "      <td>False</td>\n",
       "      <td>True</td>\n",
       "      <td>False</td>\n",
       "      <td>True</td>\n",
       "      <td>0.3000</td>\n",
       "    </tr>\n",
       "    <tr>\n",
       "      <th>6</th>\n",
       "      <td>False</td>\n",
       "      <td>True</td>\n",
       "      <td>True</td>\n",
       "      <td>False</td>\n",
       "      <td>0.4001</td>\n",
       "    </tr>\n",
       "    <tr>\n",
       "      <th>7</th>\n",
       "      <td>False</td>\n",
       "      <td>True</td>\n",
       "      <td>True</td>\n",
       "      <td>True</td>\n",
       "      <td>0.5999</td>\n",
       "    </tr>\n",
       "    <tr>\n",
       "      <th>8</th>\n",
       "      <td>True</td>\n",
       "      <td>False</td>\n",
       "      <td>False</td>\n",
       "      <td>False</td>\n",
       "      <td>0.7000</td>\n",
       "    </tr>\n",
       "    <tr>\n",
       "      <th>9</th>\n",
       "      <td>True</td>\n",
       "      <td>False</td>\n",
       "      <td>False</td>\n",
       "      <td>True</td>\n",
       "      <td>0.3000</td>\n",
       "    </tr>\n",
       "    <tr>\n",
       "      <th>10</th>\n",
       "      <td>True</td>\n",
       "      <td>False</td>\n",
       "      <td>True</td>\n",
       "      <td>False</td>\n",
       "      <td>0.3001</td>\n",
       "    </tr>\n",
       "    <tr>\n",
       "      <th>11</th>\n",
       "      <td>True</td>\n",
       "      <td>False</td>\n",
       "      <td>True</td>\n",
       "      <td>True</td>\n",
       "      <td>0.6999</td>\n",
       "    </tr>\n",
       "    <tr>\n",
       "      <th>12</th>\n",
       "      <td>True</td>\n",
       "      <td>True</td>\n",
       "      <td>False</td>\n",
       "      <td>False</td>\n",
       "      <td>0.1500</td>\n",
       "    </tr>\n",
       "    <tr>\n",
       "      <th>13</th>\n",
       "      <td>True</td>\n",
       "      <td>True</td>\n",
       "      <td>False</td>\n",
       "      <td>True</td>\n",
       "      <td>0.8500</td>\n",
       "    </tr>\n",
       "    <tr>\n",
       "      <th>14</th>\n",
       "      <td>True</td>\n",
       "      <td>True</td>\n",
       "      <td>True</td>\n",
       "      <td>False</td>\n",
       "      <td>0.1501</td>\n",
       "    </tr>\n",
       "    <tr>\n",
       "      <th>15</th>\n",
       "      <td>True</td>\n",
       "      <td>True</td>\n",
       "      <td>True</td>\n",
       "      <td>True</td>\n",
       "      <td>0.8499</td>\n",
       "    </tr>\n",
       "  </tbody>\n",
       "</table>\n",
       "</div>"
      ],
      "text/plain": [
       "    Cannot breathe?  High fever?  Take Ivermectin?   ICU?       p\n",
       "0             False        False             False  False  0.9990\n",
       "1             False        False             False   True  0.0010\n",
       "2             False        False              True  False  0.9991\n",
       "3             False        False              True   True  0.0009\n",
       "4             False         True             False  False  0.7000\n",
       "5             False         True             False   True  0.3000\n",
       "6             False         True              True  False  0.4001\n",
       "7             False         True              True   True  0.5999\n",
       "8              True        False             False  False  0.7000\n",
       "9              True        False             False   True  0.3000\n",
       "10             True        False              True  False  0.3001\n",
       "11             True        False              True   True  0.6999\n",
       "12             True         True             False  False  0.1500\n",
       "13             True         True             False   True  0.8500\n",
       "14             True         True              True  False  0.1501\n",
       "15             True         True              True   True  0.8499"
      ]
     },
     "execution_count": 14,
     "metadata": {},
     "output_type": "execute_result"
    }
   ],
   "source": [
    "pruned.get_cpt('ICU?')"
   ]
  },
  {
   "cell_type": "markdown",
   "metadata": {},
   "source": [
    "## d) Marginal distributions\n",
    "\n",
    "### summing-out: "
   ]
  },
  {
   "cell_type": "code",
   "execution_count": null,
   "metadata": {
    "scrolled": true
   },
   "outputs": [
    {
     "data": {
      "text/html": [
       "<div>\n",
       "<style scoped>\n",
       "    .dataframe tbody tr th:only-of-type {\n",
       "        vertical-align: middle;\n",
       "    }\n",
       "\n",
       "    .dataframe tbody tr th {\n",
       "        vertical-align: top;\n",
       "    }\n",
       "\n",
       "    .dataframe thead th {\n",
       "        text-align: right;\n",
       "    }\n",
       "</style>\n",
       "<table border=\"1\" class=\"dataframe\">\n",
       "  <thead>\n",
       "    <tr style=\"text-align: right;\">\n",
       "      <th></th>\n",
       "      <th>Cannot breathe?</th>\n",
       "      <th>High fever?</th>\n",
       "      <th>Take Ivermectin?</th>\n",
       "      <th>ICU?</th>\n",
       "      <th>p</th>\n",
       "    </tr>\n",
       "  </thead>\n",
       "  <tbody>\n",
       "    <tr>\n",
       "      <th>0</th>\n",
       "      <td>False</td>\n",
       "      <td>False</td>\n",
       "      <td>False</td>\n",
       "      <td>False</td>\n",
       "      <td>0.9990</td>\n",
       "    </tr>\n",
       "    <tr>\n",
       "      <th>1</th>\n",
       "      <td>False</td>\n",
       "      <td>False</td>\n",
       "      <td>False</td>\n",
       "      <td>True</td>\n",
       "      <td>0.0010</td>\n",
       "    </tr>\n",
       "    <tr>\n",
       "      <th>2</th>\n",
       "      <td>False</td>\n",
       "      <td>False</td>\n",
       "      <td>True</td>\n",
       "      <td>False</td>\n",
       "      <td>0.9991</td>\n",
       "    </tr>\n",
       "    <tr>\n",
       "      <th>3</th>\n",
       "      <td>False</td>\n",
       "      <td>False</td>\n",
       "      <td>True</td>\n",
       "      <td>True</td>\n",
       "      <td>0.0009</td>\n",
       "    </tr>\n",
       "    <tr>\n",
       "      <th>4</th>\n",
       "      <td>False</td>\n",
       "      <td>True</td>\n",
       "      <td>False</td>\n",
       "      <td>False</td>\n",
       "      <td>0.7000</td>\n",
       "    </tr>\n",
       "    <tr>\n",
       "      <th>5</th>\n",
       "      <td>False</td>\n",
       "      <td>True</td>\n",
       "      <td>False</td>\n",
       "      <td>True</td>\n",
       "      <td>0.3000</td>\n",
       "    </tr>\n",
       "    <tr>\n",
       "      <th>6</th>\n",
       "      <td>False</td>\n",
       "      <td>True</td>\n",
       "      <td>True</td>\n",
       "      <td>False</td>\n",
       "      <td>0.4001</td>\n",
       "    </tr>\n",
       "    <tr>\n",
       "      <th>7</th>\n",
       "      <td>False</td>\n",
       "      <td>True</td>\n",
       "      <td>True</td>\n",
       "      <td>True</td>\n",
       "      <td>0.5999</td>\n",
       "    </tr>\n",
       "    <tr>\n",
       "      <th>8</th>\n",
       "      <td>True</td>\n",
       "      <td>False</td>\n",
       "      <td>False</td>\n",
       "      <td>False</td>\n",
       "      <td>0.7000</td>\n",
       "    </tr>\n",
       "    <tr>\n",
       "      <th>9</th>\n",
       "      <td>True</td>\n",
       "      <td>False</td>\n",
       "      <td>False</td>\n",
       "      <td>True</td>\n",
       "      <td>0.3000</td>\n",
       "    </tr>\n",
       "    <tr>\n",
       "      <th>10</th>\n",
       "      <td>True</td>\n",
       "      <td>False</td>\n",
       "      <td>True</td>\n",
       "      <td>False</td>\n",
       "      <td>0.3001</td>\n",
       "    </tr>\n",
       "    <tr>\n",
       "      <th>11</th>\n",
       "      <td>True</td>\n",
       "      <td>False</td>\n",
       "      <td>True</td>\n",
       "      <td>True</td>\n",
       "      <td>0.6999</td>\n",
       "    </tr>\n",
       "    <tr>\n",
       "      <th>12</th>\n",
       "      <td>True</td>\n",
       "      <td>True</td>\n",
       "      <td>False</td>\n",
       "      <td>False</td>\n",
       "      <td>0.1500</td>\n",
       "    </tr>\n",
       "    <tr>\n",
       "      <th>13</th>\n",
       "      <td>True</td>\n",
       "      <td>True</td>\n",
       "      <td>False</td>\n",
       "      <td>True</td>\n",
       "      <td>0.8500</td>\n",
       "    </tr>\n",
       "    <tr>\n",
       "      <th>14</th>\n",
       "      <td>True</td>\n",
       "      <td>True</td>\n",
       "      <td>True</td>\n",
       "      <td>False</td>\n",
       "      <td>0.1501</td>\n",
       "    </tr>\n",
       "    <tr>\n",
       "      <th>15</th>\n",
       "      <td>True</td>\n",
       "      <td>True</td>\n",
       "      <td>True</td>\n",
       "      <td>True</td>\n",
       "      <td>0.8499</td>\n",
       "    </tr>\n",
       "  </tbody>\n",
       "</table>\n",
       "</div>"
      ],
      "text/plain": [
       "    Cannot breathe?  High fever?  Take Ivermectin?   ICU?       p\n",
       "0             False        False             False  False  0.9990\n",
       "1             False        False             False   True  0.0010\n",
       "2             False        False              True  False  0.9991\n",
       "3             False        False              True   True  0.0009\n",
       "4             False         True             False  False  0.7000\n",
       "5             False         True             False   True  0.3000\n",
       "6             False         True              True  False  0.4001\n",
       "7             False         True              True   True  0.5999\n",
       "8              True        False             False  False  0.7000\n",
       "9              True        False             False   True  0.3000\n",
       "10             True        False              True  False  0.3001\n",
       "11             True        False              True   True  0.6999\n",
       "12             True         True             False  False  0.1500\n",
       "13             True         True             False   True  0.8500\n",
       "14             True         True              True  False  0.1501\n",
       "15             True         True              True   True  0.8499"
      ]
     },
     "execution_count": 15,
     "metadata": {},
     "output_type": "execute_result"
    }
   ],
   "source": [
    "factor = covid.get_cpt('ICU?')\n",
    "factor"
   ]
  },
  {
   "cell_type": "code",
   "execution_count": null,
   "metadata": {
    "scrolled": true
   },
   "outputs": [
    {
     "data": {
      "text/html": [
       "<div>\n",
       "<style scoped>\n",
       "    .dataframe tbody tr th:only-of-type {\n",
       "        vertical-align: middle;\n",
       "    }\n",
       "\n",
       "    .dataframe tbody tr th {\n",
       "        vertical-align: top;\n",
       "    }\n",
       "\n",
       "    .dataframe thead th {\n",
       "        text-align: right;\n",
       "    }\n",
       "</style>\n",
       "<table border=\"1\" class=\"dataframe\">\n",
       "  <thead>\n",
       "    <tr style=\"text-align: right;\">\n",
       "      <th></th>\n",
       "      <th>Cannot breathe?</th>\n",
       "      <th>High fever?</th>\n",
       "      <th>Take Ivermectin?</th>\n",
       "      <th>p</th>\n",
       "    </tr>\n",
       "  </thead>\n",
       "  <tbody>\n",
       "    <tr>\n",
       "      <th>0</th>\n",
       "      <td>False</td>\n",
       "      <td>False</td>\n",
       "      <td>False</td>\n",
       "      <td>1.0</td>\n",
       "    </tr>\n",
       "    <tr>\n",
       "      <th>1</th>\n",
       "      <td>False</td>\n",
       "      <td>False</td>\n",
       "      <td>True</td>\n",
       "      <td>1.0</td>\n",
       "    </tr>\n",
       "    <tr>\n",
       "      <th>2</th>\n",
       "      <td>False</td>\n",
       "      <td>True</td>\n",
       "      <td>False</td>\n",
       "      <td>1.0</td>\n",
       "    </tr>\n",
       "    <tr>\n",
       "      <th>3</th>\n",
       "      <td>False</td>\n",
       "      <td>True</td>\n",
       "      <td>True</td>\n",
       "      <td>1.0</td>\n",
       "    </tr>\n",
       "    <tr>\n",
       "      <th>4</th>\n",
       "      <td>True</td>\n",
       "      <td>False</td>\n",
       "      <td>False</td>\n",
       "      <td>1.0</td>\n",
       "    </tr>\n",
       "    <tr>\n",
       "      <th>5</th>\n",
       "      <td>True</td>\n",
       "      <td>False</td>\n",
       "      <td>True</td>\n",
       "      <td>1.0</td>\n",
       "    </tr>\n",
       "    <tr>\n",
       "      <th>6</th>\n",
       "      <td>True</td>\n",
       "      <td>True</td>\n",
       "      <td>False</td>\n",
       "      <td>1.0</td>\n",
       "    </tr>\n",
       "    <tr>\n",
       "      <th>7</th>\n",
       "      <td>True</td>\n",
       "      <td>True</td>\n",
       "      <td>True</td>\n",
       "      <td>1.0</td>\n",
       "    </tr>\n",
       "  </tbody>\n",
       "</table>\n",
       "</div>"
      ],
      "text/plain": [
       "   Cannot breathe?  High fever?  Take Ivermectin?    p\n",
       "0            False        False             False  1.0\n",
       "1            False        False              True  1.0\n",
       "2            False         True             False  1.0\n",
       "3            False         True              True  1.0\n",
       "4             True        False             False  1.0\n",
       "5             True        False              True  1.0\n",
       "6             True         True             False  1.0\n",
       "7             True         True              True  1.0"
      ]
     },
     "execution_count": 16,
     "metadata": {},
     "output_type": "execute_result"
    }
   ],
   "source": [
    "reasoner.sum_out(factor, ['ICU?'])"
   ]
  },
  {
   "cell_type": "markdown",
   "metadata": {},
   "source": [
    "### multiplying"
   ]
  },
  {
   "cell_type": "code",
   "execution_count": null,
   "metadata": {},
   "outputs": [
    {
     "data": {
      "text/html": [
       "<div>\n",
       "<style scoped>\n",
       "    .dataframe tbody tr th:only-of-type {\n",
       "        vertical-align: middle;\n",
       "    }\n",
       "\n",
       "    .dataframe tbody tr th {\n",
       "        vertical-align: top;\n",
       "    }\n",
       "\n",
       "    .dataframe thead th {\n",
       "        text-align: right;\n",
       "    }\n",
       "</style>\n",
       "<table border=\"1\" class=\"dataframe\">\n",
       "  <thead>\n",
       "    <tr style=\"text-align: right;\">\n",
       "      <th></th>\n",
       "      <th>Cannot breathe?</th>\n",
       "      <th>High fever?</th>\n",
       "      <th>Take Ivermectin?</th>\n",
       "      <th>ICU?</th>\n",
       "      <th>p</th>\n",
       "    </tr>\n",
       "  </thead>\n",
       "  <tbody>\n",
       "    <tr>\n",
       "      <th>0</th>\n",
       "      <td>False</td>\n",
       "      <td>False</td>\n",
       "      <td>False</td>\n",
       "      <td>False</td>\n",
       "      <td>0.9990</td>\n",
       "    </tr>\n",
       "    <tr>\n",
       "      <th>1</th>\n",
       "      <td>False</td>\n",
       "      <td>False</td>\n",
       "      <td>False</td>\n",
       "      <td>True</td>\n",
       "      <td>0.0010</td>\n",
       "    </tr>\n",
       "    <tr>\n",
       "      <th>2</th>\n",
       "      <td>False</td>\n",
       "      <td>False</td>\n",
       "      <td>True</td>\n",
       "      <td>False</td>\n",
       "      <td>0.9991</td>\n",
       "    </tr>\n",
       "    <tr>\n",
       "      <th>3</th>\n",
       "      <td>False</td>\n",
       "      <td>False</td>\n",
       "      <td>True</td>\n",
       "      <td>True</td>\n",
       "      <td>0.0009</td>\n",
       "    </tr>\n",
       "    <tr>\n",
       "      <th>4</th>\n",
       "      <td>False</td>\n",
       "      <td>True</td>\n",
       "      <td>False</td>\n",
       "      <td>False</td>\n",
       "      <td>0.7000</td>\n",
       "    </tr>\n",
       "    <tr>\n",
       "      <th>5</th>\n",
       "      <td>False</td>\n",
       "      <td>True</td>\n",
       "      <td>False</td>\n",
       "      <td>True</td>\n",
       "      <td>0.3000</td>\n",
       "    </tr>\n",
       "    <tr>\n",
       "      <th>6</th>\n",
       "      <td>False</td>\n",
       "      <td>True</td>\n",
       "      <td>True</td>\n",
       "      <td>False</td>\n",
       "      <td>0.4001</td>\n",
       "    </tr>\n",
       "    <tr>\n",
       "      <th>7</th>\n",
       "      <td>False</td>\n",
       "      <td>True</td>\n",
       "      <td>True</td>\n",
       "      <td>True</td>\n",
       "      <td>0.5999</td>\n",
       "    </tr>\n",
       "    <tr>\n",
       "      <th>8</th>\n",
       "      <td>True</td>\n",
       "      <td>False</td>\n",
       "      <td>False</td>\n",
       "      <td>False</td>\n",
       "      <td>0.7000</td>\n",
       "    </tr>\n",
       "    <tr>\n",
       "      <th>9</th>\n",
       "      <td>True</td>\n",
       "      <td>False</td>\n",
       "      <td>False</td>\n",
       "      <td>True</td>\n",
       "      <td>0.3000</td>\n",
       "    </tr>\n",
       "    <tr>\n",
       "      <th>10</th>\n",
       "      <td>True</td>\n",
       "      <td>False</td>\n",
       "      <td>True</td>\n",
       "      <td>False</td>\n",
       "      <td>0.3001</td>\n",
       "    </tr>\n",
       "    <tr>\n",
       "      <th>11</th>\n",
       "      <td>True</td>\n",
       "      <td>False</td>\n",
       "      <td>True</td>\n",
       "      <td>True</td>\n",
       "      <td>0.6999</td>\n",
       "    </tr>\n",
       "    <tr>\n",
       "      <th>12</th>\n",
       "      <td>True</td>\n",
       "      <td>True</td>\n",
       "      <td>False</td>\n",
       "      <td>False</td>\n",
       "      <td>0.1500</td>\n",
       "    </tr>\n",
       "    <tr>\n",
       "      <th>13</th>\n",
       "      <td>True</td>\n",
       "      <td>True</td>\n",
       "      <td>False</td>\n",
       "      <td>True</td>\n",
       "      <td>0.8500</td>\n",
       "    </tr>\n",
       "    <tr>\n",
       "      <th>14</th>\n",
       "      <td>True</td>\n",
       "      <td>True</td>\n",
       "      <td>True</td>\n",
       "      <td>False</td>\n",
       "      <td>0.1501</td>\n",
       "    </tr>\n",
       "    <tr>\n",
       "      <th>15</th>\n",
       "      <td>True</td>\n",
       "      <td>True</td>\n",
       "      <td>True</td>\n",
       "      <td>True</td>\n",
       "      <td>0.8499</td>\n",
       "    </tr>\n",
       "  </tbody>\n",
       "</table>\n",
       "</div>"
      ],
      "text/plain": [
       "    Cannot breathe?  High fever?  Take Ivermectin?   ICU?       p\n",
       "0             False        False             False  False  0.9990\n",
       "1             False        False             False   True  0.0010\n",
       "2             False        False              True  False  0.9991\n",
       "3             False        False              True   True  0.0009\n",
       "4             False         True             False  False  0.7000\n",
       "5             False         True             False   True  0.3000\n",
       "6             False         True              True  False  0.4001\n",
       "7             False         True              True   True  0.5999\n",
       "8              True        False             False  False  0.7000\n",
       "9              True        False             False   True  0.3000\n",
       "10             True        False              True  False  0.3001\n",
       "11             True        False              True   True  0.6999\n",
       "12             True         True             False  False  0.1500\n",
       "13             True         True             False   True  0.8500\n",
       "14             True         True              True  False  0.1501\n",
       "15             True         True              True   True  0.8499"
      ]
     },
     "execution_count": 17,
     "metadata": {},
     "output_type": "execute_result"
    }
   ],
   "source": [
    "hospital = covid.get_cpt('ICU?')\n",
    "hospital"
   ]
  },
  {
   "cell_type": "code",
   "execution_count": null,
   "metadata": {},
   "outputs": [
    {
     "data": {
      "text/html": [
       "<div>\n",
       "<style scoped>\n",
       "    .dataframe tbody tr th:only-of-type {\n",
       "        vertical-align: middle;\n",
       "    }\n",
       "\n",
       "    .dataframe tbody tr th {\n",
       "        vertical-align: top;\n",
       "    }\n",
       "\n",
       "    .dataframe thead th {\n",
       "        text-align: right;\n",
       "    }\n",
       "</style>\n",
       "<table border=\"1\" class=\"dataframe\">\n",
       "  <thead>\n",
       "    <tr style=\"text-align: right;\">\n",
       "      <th></th>\n",
       "      <th>Covid-19?</th>\n",
       "      <th>Cold?</th>\n",
       "      <th>Take Ivermectin?</th>\n",
       "      <th>p</th>\n",
       "    </tr>\n",
       "  </thead>\n",
       "  <tbody>\n",
       "    <tr>\n",
       "      <th>0</th>\n",
       "      <td>False</td>\n",
       "      <td>False</td>\n",
       "      <td>False</td>\n",
       "      <td>1.000</td>\n",
       "    </tr>\n",
       "    <tr>\n",
       "      <th>1</th>\n",
       "      <td>False</td>\n",
       "      <td>False</td>\n",
       "      <td>True</td>\n",
       "      <td>0.000</td>\n",
       "    </tr>\n",
       "    <tr>\n",
       "      <th>2</th>\n",
       "      <td>False</td>\n",
       "      <td>True</td>\n",
       "      <td>False</td>\n",
       "      <td>0.995</td>\n",
       "    </tr>\n",
       "    <tr>\n",
       "      <th>3</th>\n",
       "      <td>False</td>\n",
       "      <td>True</td>\n",
       "      <td>True</td>\n",
       "      <td>0.005</td>\n",
       "    </tr>\n",
       "    <tr>\n",
       "      <th>4</th>\n",
       "      <td>True</td>\n",
       "      <td>False</td>\n",
       "      <td>False</td>\n",
       "      <td>0.950</td>\n",
       "    </tr>\n",
       "    <tr>\n",
       "      <th>5</th>\n",
       "      <td>True</td>\n",
       "      <td>False</td>\n",
       "      <td>True</td>\n",
       "      <td>0.050</td>\n",
       "    </tr>\n",
       "    <tr>\n",
       "      <th>6</th>\n",
       "      <td>True</td>\n",
       "      <td>True</td>\n",
       "      <td>False</td>\n",
       "      <td>0.950</td>\n",
       "    </tr>\n",
       "    <tr>\n",
       "      <th>7</th>\n",
       "      <td>True</td>\n",
       "      <td>True</td>\n",
       "      <td>True</td>\n",
       "      <td>0.050</td>\n",
       "    </tr>\n",
       "  </tbody>\n",
       "</table>\n",
       "</div>"
      ],
      "text/plain": [
       "   Covid-19?  Cold?  Take Ivermectin?      p\n",
       "0      False  False             False  1.000\n",
       "1      False  False              True  0.000\n",
       "2      False   True             False  0.995\n",
       "3      False   True              True  0.005\n",
       "4       True  False             False  0.950\n",
       "5       True  False              True  0.050\n",
       "6       True   True             False  0.950\n",
       "7       True   True              True  0.050"
      ]
     },
     "execution_count": 18,
     "metadata": {},
     "output_type": "execute_result"
    }
   ],
   "source": [
    "Joe_Rogan = covid.get_cpt('Take Ivermectin?')\n",
    "Joe_Rogan"
   ]
  },
  {
   "cell_type": "code",
   "execution_count": null,
   "metadata": {},
   "outputs": [],
   "source": [
    "hospital = covid.get_cpt('ICU?')\n",
    "Joe_Rogan = covid.get_cpt('Take Ivermectin?')"
   ]
  },
  {
   "cell_type": "code",
   "execution_count": null,
   "metadata": {},
   "outputs": [
    {
     "data": {
      "text/plain": [
       "(    Covid-19?  Cold?  Take Ivermectin?  Cannot breathe?  High fever?   ICU?  \\\n",
       " 0       False  False             False            False        False  False   \n",
       " 1       False  False             False            False        False   True   \n",
       " 2       False  False             False            False         True  False   \n",
       " 3       False  False             False            False         True   True   \n",
       " 4       False  False             False             True        False  False   \n",
       " ..        ...    ...               ...              ...          ...    ...   \n",
       " 59       True   True              True            False         True   True   \n",
       " 60       True   True              True             True        False  False   \n",
       " 61       True   True              True             True        False   True   \n",
       " 62       True   True              True             True         True  False   \n",
       " 63       True   True              True             True         True   True   \n",
       " \n",
       "            p  \n",
       " 0   0.999000  \n",
       " 1   0.001000  \n",
       " 2   0.700000  \n",
       " 3   0.300000  \n",
       " 4   0.700000  \n",
       " ..       ...  \n",
       " 59  0.029995  \n",
       " 60  0.015005  \n",
       " 61  0.034995  \n",
       " 62  0.007505  \n",
       " 63  0.042495  \n",
       " \n",
       " [64 rows x 7 columns], 64)"
      ]
     },
     "execution_count": 20,
     "metadata": {},
     "output_type": "execute_result"
    }
   ],
   "source": [
    "reasoner.mult([Joe_Rogan, hospital])"
   ]
  },
  {
   "cell_type": "markdown",
   "metadata": {},
   "source": [
    "### get marginal"
   ]
  },
  {
   "cell_type": "code",
   "execution_count": null,
   "metadata": {},
   "outputs": [],
   "source": [
    "evidence = pd.Series({\"Cold?\": False, \"Sore throat?\": False})\n",
    "query_vars = [\"Recovery?\", \"ICU?\"]\n",
    "\n",
    "marginals = reasoner.get_marginal_distribution('random', query_vars, evidence)"
   ]
  },
  {
   "cell_type": "code",
   "execution_count": null,
   "metadata": {},
   "outputs": [
    {
     "data": {
      "text/html": [
       "<div>\n",
       "<style scoped>\n",
       "    .dataframe tbody tr th:only-of-type {\n",
       "        vertical-align: middle;\n",
       "    }\n",
       "\n",
       "    .dataframe tbody tr th {\n",
       "        vertical-align: top;\n",
       "    }\n",
       "\n",
       "    .dataframe thead th {\n",
       "        text-align: right;\n",
       "    }\n",
       "</style>\n",
       "<table border=\"1\" class=\"dataframe\">\n",
       "  <thead>\n",
       "    <tr style=\"text-align: right;\">\n",
       "      <th></th>\n",
       "      <th>ICU?</th>\n",
       "      <th>Recovery?</th>\n",
       "      <th>p</th>\n",
       "    </tr>\n",
       "  </thead>\n",
       "  <tbody>\n",
       "    <tr>\n",
       "      <th>0</th>\n",
       "      <td>False</td>\n",
       "      <td>False</td>\n",
       "      <td>0.002054</td>\n",
       "    </tr>\n",
       "    <tr>\n",
       "      <th>0</th>\n",
       "      <td>False</td>\n",
       "      <td>True</td>\n",
       "      <td>0.990878</td>\n",
       "    </tr>\n",
       "    <tr>\n",
       "      <th>0</th>\n",
       "      <td>True</td>\n",
       "      <td>False</td>\n",
       "      <td>0.001962</td>\n",
       "    </tr>\n",
       "    <tr>\n",
       "      <th>0</th>\n",
       "      <td>True</td>\n",
       "      <td>True</td>\n",
       "      <td>0.005106</td>\n",
       "    </tr>\n",
       "  </tbody>\n",
       "</table>\n",
       "</div>"
      ],
      "text/plain": [
       "    ICU? Recovery?         p\n",
       "0  False     False  0.002054\n",
       "0  False      True  0.990878\n",
       "0   True     False  0.001962\n",
       "0   True      True  0.005106"
      ]
     },
     "execution_count": 22,
     "metadata": {},
     "output_type": "execute_result"
    }
   ],
   "source": [
    "marginals"
   ]
  },
  {
   "cell_type": "code",
   "execution_count": null,
   "metadata": {},
   "outputs": [
    {
     "data": {
      "text/plain": [
       "1.0"
      ]
     },
     "execution_count": 23,
     "metadata": {},
     "output_type": "execute_result"
    }
   ],
   "source": [
    "0.002054 + 0.990878 + 0.001962 + 0.005106"
   ]
  },
  {
   "cell_type": "markdown",
   "metadata": {},
   "source": [
    "## MPE"
   ]
  },
  {
   "cell_type": "code",
   "execution_count": null,
   "metadata": {},
   "outputs": [
    {
     "data": {
      "text/plain": [
       "(          p Cough? Loss of smell? Sore throat? Positive PCR test?  \\\n",
       " 0  0.830848  False          False        False              False   \n",
       " \n",
       "   Positive antigen test? Covid-19?  Cold? Cannot breathe? High fever?  \\\n",
       " 0                  False     False  False           False       False   \n",
       " \n",
       "   Take Ivermectin?   ICU? Recovery?  \n",
       " 0            False  False      True  , 671, 0, 1028, 0.2590014934539795)"
      ]
     },
     "execution_count": 24,
     "metadata": {},
     "output_type": "execute_result"
    }
   ],
   "source": [
    "reasoner.MPE('mindegree')"
   ]
  },
  {
   "cell_type": "code",
   "execution_count": null,
   "metadata": {},
   "outputs": [
    {
     "data": {
      "text/plain": [
       "(          p Cough? Loss of smell? Sore throat? Positive PCR test?  \\\n",
       " 0  0.830848  False          False        False              False   \n",
       " \n",
       "   Positive antigen test? Covid-19?  Cold? Cannot breathe? High fever?  \\\n",
       " 0                  False     False  False           False       False   \n",
       " \n",
       "   Take Ivermectin?   ICU? Recovery?  \n",
       " 0            False  False      True  , 671, 0, 1028, 0.27718353271484375)"
      ]
     },
     "execution_count": 25,
     "metadata": {},
     "output_type": "execute_result"
    }
   ],
   "source": [
    "reasoner.MPE('minfill')"
   ]
  },
  {
   "cell_type": "code",
   "execution_count": null,
   "metadata": {},
   "outputs": [
    {
     "data": {
      "text/plain": [
       "(          p   ICU? Loss of smell?  Cold? Positive antigen test?  \\\n",
       " 0  0.830848  False          False  False                  False   \n",
       " \n",
       "   Cannot breathe? Sore throat? Recovery? High fever? Positive PCR test?  \\\n",
       " 0           False        False      True       False              False   \n",
       " \n",
       "   Take Ivermectin? Covid-19? Cough?  \n",
       " 0            False     False  False  , 1269, 0, 1759, 0.3460226058959961)"
      ]
     },
     "execution_count": 26,
     "metadata": {},
     "output_type": "execute_result"
    }
   ],
   "source": [
    "reasoner.MPE('random')"
   ]
  },
  {
   "cell_type": "code",
   "execution_count": null,
   "metadata": {},
   "outputs": [
    {
     "data": {
      "text/plain": [
       "(     p  Covid-19?\n",
       " 0  1.0      False, 96, 68, 2, 0.0580143928527832)"
      ]
     },
     "execution_count": 27,
     "metadata": {},
     "output_type": "execute_result"
    }
   ],
   "source": [
    "reasoner.MAP('mindegree', map_vars = ['Covid-19?'])"
   ]
  },
  {
   "cell_type": "code",
   "execution_count": null,
   "metadata": {},
   "outputs": [
    {
     "data": {
      "text/plain": [
       "(     p  Covid-19?\n",
       " 0  1.0      False, 96, 68, 2, 0.06565499305725098)"
      ]
     },
     "execution_count": 28,
     "metadata": {},
     "output_type": "execute_result"
    }
   ],
   "source": [
    "reasoner.MAP('minfill', map_vars = ['Covid-19?'])"
   ]
  },
  {
   "cell_type": "code",
   "execution_count": null,
   "metadata": {},
   "outputs": [
    {
     "data": {
      "text/plain": [
       "(     p  Covid-19?\n",
       " 0  1.0      False, 120, 92, 2, 0.05803346633911133)"
      ]
     },
     "execution_count": 29,
     "metadata": {},
     "output_type": "execute_result"
    }
   ],
   "source": [
    "reasoner.MAP('random', map_vars = ['Covid-19?'])"
   ]
  },
  {
   "cell_type": "markdown",
   "metadata": {},
   "source": [
    "### **A-priori marginal query**\n",
    "#### What is the probability of 'ICU?' being True?"
   ]
  },
  {
   "cell_type": "code",
   "execution_count": null,
   "metadata": {},
   "outputs": [
    {
     "data": {
      "text/html": [
       "<div>\n",
       "<style scoped>\n",
       "    .dataframe tbody tr th:only-of-type {\n",
       "        vertical-align: middle;\n",
       "    }\n",
       "\n",
       "    .dataframe tbody tr th {\n",
       "        vertical-align: top;\n",
       "    }\n",
       "\n",
       "    .dataframe thead th {\n",
       "        text-align: right;\n",
       "    }\n",
       "</style>\n",
       "<table border=\"1\" class=\"dataframe\">\n",
       "  <thead>\n",
       "    <tr style=\"text-align: right;\">\n",
       "      <th></th>\n",
       "      <th>ICU?</th>\n",
       "      <th>p</th>\n",
       "    </tr>\n",
       "  </thead>\n",
       "  <tbody>\n",
       "    <tr>\n",
       "      <th>0</th>\n",
       "      <td>False</td>\n",
       "      <td>0.991872</td>\n",
       "    </tr>\n",
       "    <tr>\n",
       "      <th>1</th>\n",
       "      <td>True</td>\n",
       "      <td>0.008128</td>\n",
       "    </tr>\n",
       "  </tbody>\n",
       "</table>\n",
       "</div>"
      ],
      "text/plain": [
       "    ICU?         p\n",
       "0  False  0.991872\n",
       "1   True  0.008128"
      ]
     },
     "execution_count": 30,
     "metadata": {},
     "output_type": "execute_result"
    }
   ],
   "source": [
    "# evidence = pd.Series({\"Cold?\": False, \"Sore throat?\": False})\n",
    "query_vars = ['ICU?']\n",
    "\n",
    "marginalsRAN = reasoner.get_marginal_distribution('random', query_vars)\n",
    "marginalsFILL = reasoner.get_marginal_distribution('minfill', query_vars)\n",
    "marginalsDEG = reasoner.get_marginal_distribution('mindegree', query_vars)\n",
    "\n",
    "marginalsRAN"
   ]
  },
  {
   "cell_type": "code",
   "execution_count": null,
   "metadata": {},
   "outputs": [
    {
     "data": {
      "text/html": [
       "<div>\n",
       "<style scoped>\n",
       "    .dataframe tbody tr th:only-of-type {\n",
       "        vertical-align: middle;\n",
       "    }\n",
       "\n",
       "    .dataframe tbody tr th {\n",
       "        vertical-align: top;\n",
       "    }\n",
       "\n",
       "    .dataframe thead th {\n",
       "        text-align: right;\n",
       "    }\n",
       "</style>\n",
       "<table border=\"1\" class=\"dataframe\">\n",
       "  <thead>\n",
       "    <tr style=\"text-align: right;\">\n",
       "      <th></th>\n",
       "      <th>ICU?</th>\n",
       "      <th>p</th>\n",
       "    </tr>\n",
       "  </thead>\n",
       "  <tbody>\n",
       "    <tr>\n",
       "      <th>0</th>\n",
       "      <td>False</td>\n",
       "      <td>0.991872</td>\n",
       "    </tr>\n",
       "    <tr>\n",
       "      <th>1</th>\n",
       "      <td>True</td>\n",
       "      <td>0.008128</td>\n",
       "    </tr>\n",
       "  </tbody>\n",
       "</table>\n",
       "</div>"
      ],
      "text/plain": [
       "    ICU?         p\n",
       "0  False  0.991872\n",
       "1   True  0.008128"
      ]
     },
     "execution_count": 31,
     "metadata": {},
     "output_type": "execute_result"
    }
   ],
   "source": [
    "marginalsFILL"
   ]
  },
  {
   "cell_type": "code",
   "execution_count": null,
   "metadata": {},
   "outputs": [
    {
     "data": {
      "text/html": [
       "<div>\n",
       "<style scoped>\n",
       "    .dataframe tbody tr th:only-of-type {\n",
       "        vertical-align: middle;\n",
       "    }\n",
       "\n",
       "    .dataframe tbody tr th {\n",
       "        vertical-align: top;\n",
       "    }\n",
       "\n",
       "    .dataframe thead th {\n",
       "        text-align: right;\n",
       "    }\n",
       "</style>\n",
       "<table border=\"1\" class=\"dataframe\">\n",
       "  <thead>\n",
       "    <tr style=\"text-align: right;\">\n",
       "      <th></th>\n",
       "      <th>ICU?</th>\n",
       "      <th>p</th>\n",
       "    </tr>\n",
       "  </thead>\n",
       "  <tbody>\n",
       "    <tr>\n",
       "      <th>0</th>\n",
       "      <td>False</td>\n",
       "      <td>0.991872</td>\n",
       "    </tr>\n",
       "    <tr>\n",
       "      <th>1</th>\n",
       "      <td>True</td>\n",
       "      <td>0.008128</td>\n",
       "    </tr>\n",
       "  </tbody>\n",
       "</table>\n",
       "</div>"
      ],
      "text/plain": [
       "    ICU?         p\n",
       "0  False  0.991872\n",
       "1   True  0.008128"
      ]
     },
     "execution_count": 32,
     "metadata": {},
     "output_type": "execute_result"
    }
   ],
   "source": [
    "marginalsDEG"
   ]
  },
  {
   "cell_type": "markdown",
   "metadata": {},
   "source": [
    "### **A-posterior marginal query**\n",
    "##### What is the difference between the probability of someone going into ICU given that they have Covid-19, \n",
    "##### vs. the probability of someone going to the ICU given they took Ivermectin and they have Covid-19?"
   ]
  },
  {
   "cell_type": "code",
   "execution_count": null,
   "metadata": {},
   "outputs": [
    {
     "ename": "NameError",
     "evalue": "name 'pd' is not defined",
     "output_type": "error",
     "traceback": [
      "\u001b[1;31m---------------------------------------------------------------------------\u001b[0m",
      "\u001b[1;31mNameError\u001b[0m                                 Traceback (most recent call last)",
      "\u001b[1;32m~\\AppData\\Local\\Temp/ipykernel_15428/3481375971.py\u001b[0m in \u001b[0;36m<module>\u001b[1;34m\u001b[0m\n\u001b[1;32m----> 1\u001b[1;33m \u001b[0mevidence\u001b[0m \u001b[1;33m=\u001b[0m \u001b[0mpd\u001b[0m\u001b[1;33m.\u001b[0m\u001b[0mSeries\u001b[0m\u001b[1;33m(\u001b[0m\u001b[1;33m{\u001b[0m\u001b[1;34m'Covid-19?'\u001b[0m\u001b[1;33m:\u001b[0m \u001b[1;32mTrue\u001b[0m\u001b[1;33m}\u001b[0m\u001b[1;33m)\u001b[0m\u001b[1;33m\u001b[0m\u001b[1;33m\u001b[0m\u001b[0m\n\u001b[0m\u001b[0;32m      2\u001b[0m \u001b[0mquery_vars\u001b[0m \u001b[1;33m=\u001b[0m \u001b[1;33m[\u001b[0m\u001b[1;34m'ICU?'\u001b[0m\u001b[1;33m]\u001b[0m\u001b[1;33m\u001b[0m\u001b[1;33m\u001b[0m\u001b[0m\n\u001b[0;32m      3\u001b[0m \u001b[1;33m\u001b[0m\u001b[0m\n\u001b[0;32m      4\u001b[0m \u001b[0mmar\u001b[0m \u001b[1;33m=\u001b[0m \u001b[0mreasoner\u001b[0m\u001b[1;33m.\u001b[0m\u001b[0mget_marginal_distribution\u001b[0m\u001b[1;33m(\u001b[0m\u001b[1;34m'random'\u001b[0m\u001b[1;33m,\u001b[0m \u001b[0mquery_vars\u001b[0m\u001b[1;33m,\u001b[0m \u001b[0mevidence\u001b[0m\u001b[1;33m)\u001b[0m\u001b[1;33m\u001b[0m\u001b[1;33m\u001b[0m\u001b[0m\n\u001b[0;32m      5\u001b[0m \u001b[1;33m\u001b[0m\u001b[0m\n",
      "\u001b[1;31mNameError\u001b[0m: name 'pd' is not defined"
     ]
    }
   ],
   "source": [
    "evidence = pd.Series({'Covid-19?': True})\n",
    "query_vars = ['ICU?']\n",
    "\n",
    "mar = reasoner.get_marginal_distribution('random', query_vars, evidence)\n",
    "\n",
    "evidence2 = pd.Series({'Covid-19?': True, 'Take Ivermectin?': True})\n",
    "query_vars2 = ['ICU?']\n",
    "\n",
    "mar2 = reasoner.get_marginal_distribution('random', query_vars2, evidence2)"
   ]
  },
  {
   "cell_type": "code",
   "execution_count": null,
   "metadata": {},
   "outputs": [
    {
     "data": {
      "text/html": [
       "<div>\n",
       "<style scoped>\n",
       "    .dataframe tbody tr th:only-of-type {\n",
       "        vertical-align: middle;\n",
       "    }\n",
       "\n",
       "    .dataframe tbody tr th {\n",
       "        vertical-align: top;\n",
       "    }\n",
       "\n",
       "    .dataframe thead th {\n",
       "        text-align: right;\n",
       "    }\n",
       "</style>\n",
       "<table border=\"1\" class=\"dataframe\">\n",
       "  <thead>\n",
       "    <tr style=\"text-align: right;\">\n",
       "      <th></th>\n",
       "      <th>ICU?</th>\n",
       "      <th>p</th>\n",
       "    </tr>\n",
       "  </thead>\n",
       "  <tbody>\n",
       "    <tr>\n",
       "      <th>0</th>\n",
       "      <td>False</td>\n",
       "      <td>0.94637</td>\n",
       "    </tr>\n",
       "    <tr>\n",
       "      <th>0</th>\n",
       "      <td>True</td>\n",
       "      <td>0.05363</td>\n",
       "    </tr>\n",
       "  </tbody>\n",
       "</table>\n",
       "</div>"
      ],
      "text/plain": [
       "    ICU?        p\n",
       "0  False  0.94637\n",
       "0   True  0.05363"
      ]
     },
     "execution_count": 35,
     "metadata": {},
     "output_type": "execute_result"
    }
   ],
   "source": [
    "mar"
   ]
  },
  {
   "cell_type": "code",
   "execution_count": null,
   "metadata": {},
   "outputs": [
    {
     "data": {
      "text/html": [
       "<div>\n",
       "<style scoped>\n",
       "    .dataframe tbody tr th:only-of-type {\n",
       "        vertical-align: middle;\n",
       "    }\n",
       "\n",
       "    .dataframe tbody tr th {\n",
       "        vertical-align: top;\n",
       "    }\n",
       "\n",
       "    .dataframe thead th {\n",
       "        text-align: right;\n",
       "    }\n",
       "</style>\n",
       "<table border=\"1\" class=\"dataframe\">\n",
       "  <thead>\n",
       "    <tr style=\"text-align: right;\">\n",
       "      <th></th>\n",
       "      <th>ICU?</th>\n",
       "      <th>p</th>\n",
       "    </tr>\n",
       "  </thead>\n",
       "  <tbody>\n",
       "    <tr>\n",
       "      <th>0</th>\n",
       "      <td>False</td>\n",
       "      <td>0.866041</td>\n",
       "    </tr>\n",
       "    <tr>\n",
       "      <th>1</th>\n",
       "      <td>True</td>\n",
       "      <td>0.133959</td>\n",
       "    </tr>\n",
       "  </tbody>\n",
       "</table>\n",
       "</div>"
      ],
      "text/plain": [
       "    ICU?         p\n",
       "0  False  0.866041\n",
       "1   True  0.133959"
      ]
     },
     "execution_count": 36,
     "metadata": {},
     "output_type": "execute_result"
    }
   ],
   "source": [
    "mar2"
   ]
  },
  {
   "cell_type": "markdown",
   "metadata": {},
   "source": [
    "### **MAP query**\n",
    "##### What is the most likely instantiation of Covid-19 and ICU given that a person has cough, loss of smell, and a sore throat"
   ]
  },
  {
   "cell_type": "code",
   "execution_count": null,
   "metadata": {},
   "outputs": [
    {
     "data": {
      "text/plain": [
       "(  Covid-19?   ICU?         p\n",
       " 0     False  False  0.985459, 204, 206, 6, 0.11399722099304199)"
      ]
     },
     "execution_count": 37,
     "metadata": {},
     "output_type": "execute_result"
    }
   ],
   "source": [
    "map_vars = ['Covid-19?', 'ICU?']\n",
    "e_vars = pd.Series({'Cough?': True, 'Loss of smell?': True, 'Sore throat?': True})\n",
    "\n",
    "map_query = reasoner.MAP('random', map_vars=map_vars, e_vars=e_vars)\n",
    "\n",
    "map_query"
   ]
  },
  {
   "cell_type": "markdown",
   "metadata": {},
   "source": [
    "### **MPE query**\n",
    "##### What is the most likely instantiation of all variables given that a person tests positive on the PCR test and positive on the antigen test."
   ]
  },
  {
   "cell_type": "code",
   "execution_count": null,
   "metadata": {},
   "outputs": [],
   "source": [
    "mpe_query = reasoner.MPE('mindegree', pd.Series({'Positive PCR test?': True, 'Positive antigen test?':True}))\n",
    "\n",
    "mpe_query"
   ]
  }
 ],
 "metadata": {
  "interpreter": {
   "hash": "d851f5f2e04efbe0e6732074ca7af75de027e80c026fb13f10837196506c7235"
  },
  "kernelspec": {
   "display_name": "Python 3",
   "language": "python",
   "name": "python3"
  },
  "language_info": {
   "codemirror_mode": {
    "name": "ipython",
    "version": 3
   },
   "file_extension": ".py",
   "mimetype": "text/x-python",
   "name": "python",
   "nbconvert_exporter": "python",
   "pygments_lexer": "ipython3",
   "version": "3.8.3"
  }
 },
 "nbformat": 4,
 "nbformat_minor": 4
}
